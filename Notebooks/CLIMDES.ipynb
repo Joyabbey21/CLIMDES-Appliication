{
  "cells": [
    {
      "cell_type": "markdown",
      "metadata": {
        "id": "AcoOVBumeC7c"
      },
      "source": [
        "## Internship Application for CLIMDES internship Prediction with Machine Learning\n",
        "\n",
        "**Table of contents**\n",
        "- Data Simulation\n",
        "- Data Cleaning and preprocessing\n",
        "- Cross validation\n",
        "- Model Buidling, training and evaluation\n",
        "- Hyperparameter optimization\n",
        "- Model deployment\n",
        "- Model Explanability\n"
      ]
    },
    {
      "cell_type": "markdown",
      "metadata": {
        "id": "l3OUcx3ifKq_"
      },
      "source": [
        "Data Simulation\n",
        "\n",
        "The dataset  will be simulated using LLM(chatgpt)\n",
        "2000 samples will be generated with about 15 features where 50% will be randomly generated and the 50% will be generated conditionaly using a formualted success algorithm"
      ]
    },
    {
      "cell_type": "code",
      "execution_count": null,
      "metadata": {
        "colab": {
          "base_uri": "https://localhost:8080/"
        },
        "id": "8MZzOpjlxk79",
        "outputId": "2820a820-5216-4cde-d824-c2a1f943df60"
      },
      "outputs": [
        {
          "name": "stdout",
          "output_type": "stream",
          "text": [
            "Requirement already satisfied: xgboost in /usr/local/lib/python3.10/dist-packages (2.0.1)\n",
            "Collecting catboost\n",
            "  Downloading catboost-1.2.2-cp310-cp310-manylinux2014_x86_64.whl (98.7 MB)\n",
            "\u001b[2K     \u001b[90m━━━━━━━━━━━━━━━━━━━━━━━━━━━━━━━━━━━━━━━━\u001b[0m \u001b[32m98.7/98.7 MB\u001b[0m \u001b[31m9.0 MB/s\u001b[0m eta \u001b[36m0:00:00\u001b[0m\n",
            "\u001b[?25hCollecting lgm\n",
            "  Downloading lgm-0.1.0-py3-none-any.whl (49 kB)\n",
            "\u001b[2K     \u001b[90m━━━━━━━━━━━━━━━━━━━━━━━━━━━━━━━━━━━━━━━━\u001b[0m \u001b[32m49.9/49.9 kB\u001b[0m \u001b[31m4.8 MB/s\u001b[0m eta \u001b[36m0:00:00\u001b[0m\n",
            "\u001b[?25hRequirement already satisfied: numpy in /usr/local/lib/python3.10/dist-packages (from xgboost) (1.23.5)\n",
            "Requirement already satisfied: scipy in /usr/local/lib/python3.10/dist-packages (from xgboost) (1.11.3)\n",
            "Requirement already satisfied: graphviz in /usr/local/lib/python3.10/dist-packages (from catboost) (0.20.1)\n",
            "Requirement already satisfied: matplotlib in /usr/local/lib/python3.10/dist-packages (from catboost) (3.7.1)\n",
            "Requirement already satisfied: pandas>=0.24 in /usr/local/lib/python3.10/dist-packages (from catboost) (1.5.3)\n",
            "Requirement already satisfied: plotly in /usr/local/lib/python3.10/dist-packages (from catboost) (5.15.0)\n",
            "Requirement already satisfied: six in /usr/local/lib/python3.10/dist-packages (from catboost) (1.16.0)\n",
            "Requirement already satisfied: python-dateutil>=2.8.1 in /usr/local/lib/python3.10/dist-packages (from pandas>=0.24->catboost) (2.8.2)\n",
            "Requirement already satisfied: pytz>=2020.1 in /usr/local/lib/python3.10/dist-packages (from pandas>=0.24->catboost) (2023.3.post1)\n",
            "Requirement already satisfied: contourpy>=1.0.1 in /usr/local/lib/python3.10/dist-packages (from matplotlib->catboost) (1.2.0)\n",
            "Requirement already satisfied: cycler>=0.10 in /usr/local/lib/python3.10/dist-packages (from matplotlib->catboost) (0.12.1)\n",
            "Requirement already satisfied: fonttools>=4.22.0 in /usr/local/lib/python3.10/dist-packages (from matplotlib->catboost) (4.44.0)\n",
            "Requirement already satisfied: kiwisolver>=1.0.1 in /usr/local/lib/python3.10/dist-packages (from matplotlib->catboost) (1.4.5)\n",
            "Requirement already satisfied: packaging>=20.0 in /usr/local/lib/python3.10/dist-packages (from matplotlib->catboost) (23.2)\n",
            "Requirement already satisfied: pillow>=6.2.0 in /usr/local/lib/python3.10/dist-packages (from matplotlib->catboost) (9.4.0)\n",
            "Requirement already satisfied: pyparsing>=2.3.1 in /usr/local/lib/python3.10/dist-packages (from matplotlib->catboost) (3.1.1)\n",
            "Requirement already satisfied: tenacity>=6.2.0 in /usr/local/lib/python3.10/dist-packages (from plotly->catboost) (8.2.3)\n",
            "Installing collected packages: lgm, catboost\n",
            "Successfully installed catboost-1.2.2 lgm-0.1.0\n"
          ]
        }
      ],
      "source": [
        "!pip install xgboost catboost lgm optuna"
      ]
    },
    {
      "cell_type": "code",
      "execution_count": 1,
      "metadata": {
        "id": "e9nqblK5Cf1T"
      },
      "outputs": [
        {
          "name": "stderr",
          "output_type": "stream",
          "text": [
            "c:\\Users\\User\\Desktop\\Blessing_AI\\Joy-Project\\venv\\lib\\site-packages\\tqdm\\auto.py:21: TqdmWarning: IProgress not found. Please update jupyter and ipywidgets. See https://ipywidgets.readthedocs.io/en/stable/user_install.html\n",
            "  from .autonotebook import tqdm as notebook_tqdm\n"
          ]
        }
      ],
      "source": [
        "import pandas as pd\n",
        "import numpy as np\n",
        "import matplotlib.pyplot as plt\n",
        "#import seaborn as sns\n",
        "from sklearn.pipeline import Pipeline\n",
        "from sklearn.preprocessing import OneHotEncoder, StandardScaler,MinMaxScaler,MaxAbsScaler\n",
        "from sklearn.compose import ColumnTransformer\n",
        "from sklearn.linear_model import LogisticRegression\n",
        "from sklearn.ensemble import RandomForestClassifier,GradientBoostingClassifier\n",
        "from sklearn.model_selection import train_test_split\n",
        "import xgboost as xgb\n",
        "import catboost\n",
        "from sklearn.model_selection import StratifiedShuffleSplit\n",
        "from sklearn.metrics import accuracy_score,f1_score\n",
        "from sklearn.metrics import classification_report\n",
        "import lightgbm as lgm\n",
        "import optuna\n",
        "import warnings\n",
        "from pathlib import Path\n",
        "warnings.filterwarnings('ignore')\n",
        "%matplotlib inline"
      ]
    },
    {
      "cell_type": "code",
      "execution_count": 2,
      "metadata": {
        "id": "XXZk_BizBvX_"
      },
      "outputs": [],
      "source": [
        "\n",
        "# Seed for reproducibility\n",
        "np.random.seed(0)\n",
        "\n",
        "# Define a helper function to determine success based on a set of weighted conditions\n",
        "def determine_success(row):\n",
        "    score = (row['Language_Proficiency'] in ['Advanced', 'Native']) * 2 + \\\n",
        "            (row['Work_Experience'] >= 2) + \\\n",
        "            (row['Internet_Availability'] == 'High-Speed') * 2 + \\\n",
        "            (row['Soft_Skills'] in ['Good', 'Excellent']) * 2 + \\\n",
        "            (row['Hours_Dedicated'] >= 15)\n",
        "    # Assuming that a score of 3 or more leans towards success\n",
        "    return 1 if score >= 3 else 0\n",
        "\n",
        "# Configuration of possible values for the dataset features\n",
        "config = {\n",
        "    'age_range': (18, 50),\n",
        "    'gender_options': ['Male', 'Female', 'Non-Binary'],\n",
        "    'work_experience_range': (0, 10),\n",
        "    'hours_dedicated_range': (5, 40),  # Assuming this is per week\n",
        "    'Continent': ['Europe', 'Africa', 'Asia', 'North America', 'South America', 'Australia','Antarctica'],\n",
        "    'soft_skills_levels': ['Poor', 'Average', 'Good', 'Excellent'],\n",
        "    'internet_options': ['High-Speed', 'Dial-Up', 'None'],\n",
        "    'availability_options': ['Part-time', 'Full-time', 'Flexible'],\n",
        "    'marital_status_options': ['Single', 'Married', 'Divorced', 'Widowed'],\n",
        "    'language_proficiency_levels': ['Beginner', 'Intermediate', 'Advanced', 'Native']\n",
        "}\n",
        "\n",
        "# Initialize the DataFrame\n",
        "df_rows = []\n",
        "\n",
        "# Generate 2000 samples\n",
        "for _ in range(2000):\n",
        "    is_student = np.random.choice([True, False])\n",
        "    row = {\n",
        "        'Age': np.random.randint(*config['age_range']),\n",
        "        'Gender': np.random.choice(config['gender_options']),\n",
        "        'Student': is_student,\n",
        "        'Non-student': not is_student,\n",
        "        'Internship_Experience': np.random.choice([0, 1, 2, 3, 4, 5]),  # Up to 5 past internships\n",
        "        'Year_of_Study': np.random.randint(1, 5) if is_student else -1,\n",
        "        'Marital_Status': np.random.choice(config['marital_status_options']),\n",
        "        'Work_Experience': np.random.randint(*config['work_experience_range']),\n",
        "        'Internet_Availability': np.random.choice(config['internet_options']),\n",
        "        'Research_Experience': np.random.randint(0, 5),  # Up to 5 research experiences\n",
        "        'Availability': np.random.choice(config['availability_options']),\n",
        "        'Language_Proficiency': np.random.choice(config['language_proficiency_levels']),\n",
        "        'Hours_Dedicated': np.random.randint(*config['hours_dedicated_range']),\n",
        "        'Continent': np.random.choice(config['Continent']),\n",
        "        'Soft_Skills': np.random.choice(config['soft_skills_levels']),\n",
        "        'Internship_success': ''  # Placeholder for success determination\n",
        "    }\n",
        "\n",
        "    # Determine Success for the first 1000 samples based on logic\n",
        "    if len(df_rows) < 1000:\n",
        "        row['Internship_success'] = determine_success(row)\n",
        "    else:\n",
        "        # Randomly assign success for the remaining 1000 samples\n",
        "        row['Internship_success'] = np.random.choice([1, 0])\n",
        "\n",
        "    df_rows.append(row)\n"
      ]
    },
    {
      "cell_type": "code",
      "execution_count": 3,
      "metadata": {
        "id": "zg3G8VosCBst"
      },
      "outputs": [],
      "source": [
        "\n",
        "# Create a DataFrame\n",
        "df = pd.DataFrame(df_rows)\n",
        "# Optionally, shuffle the DataFrame\n",
        "df = df.sample(frac=1).reset_index(drop=True)\n"
      ]
    },
    {
      "cell_type": "code",
      "execution_count": 5,
      "metadata": {},
      "outputs": [
        {
          "name": "stdout",
          "output_type": "stream",
          "text": [
            "c:\\Users\\User\\Desktop\\Blessing_AI\\Joy-Project\\Notebooks\n"
          ]
        }
      ],
      "source": [
        "!cd"
      ]
    },
    {
      "cell_type": "code",
      "execution_count": null,
      "metadata": {},
      "outputs": [],
      "source": [
        "#save data to folder\n",
        "\n",
        "\n",
        "\n"
      ]
    },
    {
      "cell_type": "code",
      "execution_count": null,
      "metadata": {
        "colab": {
          "base_uri": "https://localhost:8080/"
        },
        "id": "x1rX8b6GC5_r",
        "outputId": "1e5794e1-b856-464d-eadf-a2a0070e5542"
      },
      "outputs": [
        {
          "data": {
            "text/plain": [
              "Index(['Age', 'Gender', 'Student', 'Non-student', 'Internship_Experience',\n",
              "       'Year_of_Study', 'Marital_Status', 'Work_Experience',\n",
              "       'Internet_Availability', 'Research_Experience', 'Availability',\n",
              "       'Language_Proficiency', 'Hours_Dedicated', 'Continent', 'Soft_Skills',\n",
              "       'Internship_success'],\n",
              "      dtype='object')"
            ]
          },
          "execution_count": 6,
          "metadata": {},
          "output_type": "execute_result"
        }
      ],
      "source": [
        "df.columns"
      ]
    },
    {
      "cell_type": "code",
      "execution_count": null,
      "metadata": {
        "colab": {
          "base_uri": "https://localhost:8080/"
        },
        "id": "kSBTp2uQPLpD",
        "outputId": "c506c645-52d3-479b-f5d1-e0d9453acc4a"
      },
      "outputs": [
        {
          "data": {
            "text/plain": [
              "1    1320\n",
              "0     680\n",
              "Name: Internship_success, dtype: int64"
            ]
          },
          "execution_count": 7,
          "metadata": {},
          "output_type": "execute_result"
        }
      ],
      "source": [
        "df.Internship_success.value_counts()"
      ]
    },
    {
      "cell_type": "markdown",
      "metadata": {
        "id": "OmyrshoziRnY"
      },
      "source": [
        "Data Cleaning and Preprocessing"
      ]
    },
    {
      "cell_type": "code",
      "execution_count": null,
      "metadata": {
        "colab": {
          "base_uri": "https://localhost:8080/"
        },
        "id": "qcYiLdAkPznF",
        "outputId": "677a1d2c-a199-4d13-c932-b9aead3fcc51"
      },
      "outputs": [
        {
          "name": "stdout",
          "output_type": "stream",
          "text": [
            "Total missing values in data is 0\n"
          ]
        }
      ],
      "source": [
        "#check missing values\n",
        "print(f\"Total missing values in data is {df.isnull().sum().sum()}\")"
      ]
    },
    {
      "cell_type": "code",
      "execution_count": null,
      "metadata": {
        "colab": {
          "base_uri": "https://localhost:8080/"
        },
        "id": "9HrK1H99iesd",
        "outputId": "c2037658-aa91-46cb-c3d9-666dd2974431"
      },
      "outputs": [
        {
          "data": {
            "text/plain": [
              "Age                      0\n",
              "Gender                   0\n",
              "Student                  0\n",
              "Non-student              0\n",
              "Internship_Experience    0\n",
              "Year_of_Study            0\n",
              "Marital_Status           0\n",
              "Work_Experience          0\n",
              "Internet_Availability    0\n",
              "Research_Experience      0\n",
              "Availability             0\n",
              "Language_Proficiency     0\n",
              "Hours_Dedicated          0\n",
              "Continent                0\n",
              "Soft_Skills              0\n",
              "Internship_success       0\n",
              "dtype: int64"
            ]
          },
          "execution_count": 9,
          "metadata": {},
          "output_type": "execute_result"
        }
      ],
      "source": [
        "df.isnull().sum()"
      ]
    },
    {
      "cell_type": "markdown",
      "metadata": {
        "id": "RqmLBJo_jC6e"
      },
      "source": [
        "comment: No missing values"
      ]
    },
    {
      "cell_type": "code",
      "execution_count": null,
      "metadata": {
        "colab": {
          "base_uri": "https://localhost:8080/"
        },
        "id": "rdHrvu7Rjthp",
        "outputId": "bc7876e2-9fea-4ad0-8cbd-9503b7efa061"
      },
      "outputs": [
        {
          "name": "stdout",
          "output_type": "stream",
          "text": [
            "16\n"
          ]
        }
      ],
      "source": [
        "print(len(df.columns))"
      ]
    },
    {
      "cell_type": "code",
      "execution_count": null,
      "metadata": {
        "colab": {
          "base_uri": "https://localhost:8080/"
        },
        "id": "J3qxaFp6jSxj",
        "outputId": "e6982081-db70-4aeb-9831-7c14bc531f9d"
      },
      "outputs": [
        {
          "data": {
            "text/plain": [
              "['Gender',\n",
              " 'Marital_Status',\n",
              " 'Internet_Availability',\n",
              " 'Availability',\n",
              " 'Language_Proficiency',\n",
              " 'Continent',\n",
              " 'Soft_Skills']"
            ]
          },
          "execution_count": 11,
          "metadata": {},
          "output_type": "execute_result"
        }
      ],
      "source": [
        "#numerical features\n",
        "categorical_features = [feature for feature in df.columns if df[feature].dtype == \"object\"]\n",
        "categorical_features"
      ]
    },
    {
      "cell_type": "code",
      "execution_count": null,
      "metadata": {
        "colab": {
          "base_uri": "https://localhost:8080/"
        },
        "id": "rGRg-NmJkMdP",
        "outputId": "ca01cc2d-2e0f-4f5c-c222-75d8427f44d4"
      },
      "outputs": [
        {
          "name": "stdout",
          "output_type": "stream",
          "text": [
            "Gender : categories are ['Non-Binary' 'Male' 'Female'] \n",
            "_____________________________________________________\n",
            "Marital_Status : categories are ['Divorced' 'Single' 'Widowed' 'Married'] \n",
            "_____________________________________________________\n",
            "Internet_Availability : categories are ['None' 'Dial-Up' 'High-Speed'] \n",
            "_____________________________________________________\n",
            "Availability : categories are ['Full-time' 'Flexible' 'Part-time'] \n",
            "_____________________________________________________\n",
            "Language_Proficiency : categories are ['Beginner' 'Intermediate' 'Advanced' 'Native'] \n",
            "_____________________________________________________\n",
            "Continent : categories are ['Australia' 'South America' 'North America' 'Europe' 'Asia' 'Africa'\n",
            " 'Antarctica'] \n",
            "_____________________________________________________\n",
            "Soft_Skills : categories are ['Poor' 'Good' 'Excellent' 'Average'] \n",
            "_____________________________________________________\n"
          ]
        }
      ],
      "source": [
        "for feature in categorical_features:\n",
        "  print(f\"{feature} : categories are {df[feature].unique()} \")\n",
        "  print(\"_____________________________________________________\")"
      ]
    },
    {
      "cell_type": "code",
      "execution_count": null,
      "metadata": {
        "colab": {
          "base_uri": "https://localhost:8080/"
        },
        "id": "gZTxaNamobog",
        "outputId": "a0ad48fb-53e9-4b11-f061-d4e582bdfd1c"
      },
      "outputs": [
        {
          "name": "stdout",
          "output_type": "stream",
          "text": [
            "Age : categories are 32 \n",
            "_____________________________________________________\n",
            "Student : categories are 2 \n",
            "_____________________________________________________\n",
            "Non-student : categories are 2 \n",
            "_____________________________________________________\n",
            "Internship_Experience : categories are 6 \n",
            "_____________________________________________________\n",
            "Year_of_Study : categories are 5 \n",
            "_____________________________________________________\n",
            "Work_Experience : categories are 10 \n",
            "_____________________________________________________\n",
            "Research_Experience : categories are 5 \n",
            "_____________________________________________________\n",
            "Hours_Dedicated : categories are 35 \n",
            "_____________________________________________________\n"
          ]
        }
      ],
      "source": [
        "#Numerical features\n",
        "numerical_features = [feature for feature in df.columns if feature not in categorical_features and feature != \"Internship_success\"]\n",
        "#check number of unique values in each featufe\n",
        "for feature in numerical_features:\n",
        "  print(f\"{feature} : categories are {df[feature].nunique()} \")\n",
        "  print(\"_____________________________________________________\")"
      ]
    },
    {
      "cell_type": "code",
      "execution_count": null,
      "metadata": {
        "colab": {
          "base_uri": "https://localhost:8080/",
          "height": 487
        },
        "id": "yMX9_8jFowLv",
        "outputId": "42917728-83bd-474d-fd3c-d89a55fd2c86"
      },
      "outputs": [
        {
          "data": {
            "image/png": "[encoded data removed]",
            "text/plain": [
              "<Figure size 640x480 with 2 Axes>"
            ]
          },
          "metadata": {},
          "output_type": "display_data"
        }
      ],
      "source": [
        "#plot distribution of features with classes > 35\n",
        "fig, axs = plt.subplots(1, 2, sharey=True, tight_layout=True)\n",
        "dist1 = df[\"Age\"]\n",
        "dist2 = df[\"Hours_Dedicated\"]\n",
        "n_bins = 25\n",
        "# We can set the number of bins with the *bins* keyword argument.\n",
        "axs[0].hist(dist1, bins=n_bins)\n",
        "axs[0].title.set_text(\"Age distribution\")\n",
        "axs[1].hist(dist2, bins=n_bins)\n",
        "axs[1].title.set_text(\"Hours Dedictaed\")\n",
        "plt.show()\n"
      ]
    },
    {
      "cell_type": "markdown",
      "metadata": {
        "id": "1MJ5bqOrtzJ2"
      },
      "source": [
        "Data transformation pipeline"
      ]
    },
    {
      "cell_type": "code",
      "execution_count": null,
      "metadata": {
        "colab": {
          "base_uri": "https://localhost:8080/"
        },
        "id": "tdXalJEj1AbL",
        "outputId": "fd40784b-bd14-4476-bc07-3b8457d88454"
      },
      "outputs": [
        {
          "data": {
            "text/plain": [
              "['Gender',\n",
              " 'Marital_Status',\n",
              " 'Internet_Availability',\n",
              " 'Availability',\n",
              " 'Language_Proficiency',\n",
              " 'Continent',\n",
              " 'Soft_Skills']"
            ]
          },
          "execution_count": 15,
          "metadata": {},
          "output_type": "execute_result"
        }
      ],
      "source": [
        "categorical_features"
      ]
    },
    {
      "cell_type": "code",
      "execution_count": null,
      "metadata": {
        "id": "LBTQ_cc-mBBV"
      },
      "outputs": [],
      "source": [
        "numerical_pipeline = Pipeline(\n",
        "                steps=[\n",
        "                       (\"scaler\",MinMaxScaler())]\n",
        "            )\n",
        "cat_pipeline = Pipeline(steps=[(\"one_hot_encoder\",OneHotEncoder()),\n",
        "                                            (\"scaler\",MaxAbsScaler())])\n",
        "\n",
        "preprocessor = ColumnTransformer([(\"num_pippeline\",numerical_pipeline,numerical_features),\n",
        "                                              (\"cat_pipeline\",cat_pipeline,categorical_features)])\n",
        "\n",
        "X = df.drop(\"Internship_success\",axis=1)\n",
        "y = df[\"Internship_success\"]\n",
        "\n",
        "input_features = preprocessor.fit_transform(X)"
      ]
    },
    {
      "cell_type": "markdown",
      "metadata": {
        "id": "G5DjSy8lwad7"
      },
      "source": [
        "Cross Validation"
      ]
    },
    {
      "cell_type": "code",
      "execution_count": null,
      "metadata": {
        "id": "LVj6w836ySQZ"
      },
      "outputs": [],
      "source": [
        "from catboost import CatBoostClassifier"
      ]
    },
    {
      "cell_type": "code",
      "execution_count": null,
      "metadata": {
        "id": "XgViw4qlwZtW"
      },
      "outputs": [],
      "source": [
        "#dictionary of models to be used\n",
        "models = {\"Logistic_Regression\":LogisticRegression(),\n",
        "          \"light_gradient_boistingt\":lgm.LGBMClassifier(random_state=0,verbose=0),\"XGboost\":xgb.XGBClassifier(random_state=0),\n",
        "          \"Catboost\":CatBoostClassifier(random_state=0,silent=True),\"Gradient_boosting\":GradientBoostingClassifier(random_state=0)}\n",
        "\n",
        "\n",
        "skf = StratifiedShuffleSplit(n_splits=10, test_size=0.2, random_state=0)\n",
        "\n",
        "#Custom cross validation function\n",
        "def run(models):\n",
        "    #create empty dic for model and scores\n",
        "    scores = {}\n",
        "    for model in models.keys():\n",
        "        scores[model] = [] #create empty lsit to store model scores at on each fold\n",
        "    for name,model in models.items():\n",
        "        print(f\"Running -- {name}\")\n",
        "        print(\"-------------------------\")\n",
        "        for i,(train_index, test_index) in enumerate(skf.split(X, y)):\n",
        "            xtrain, xvalid = X.iloc[train_index], X.iloc[test_index]\n",
        "            xtrain = preprocessor.fit_transform(xtrain)\n",
        "            xvalid = preprocessor.fit_transform(xvalid)\n",
        "            ytrain, yvalid = y.iloc[train_index], y.iloc[test_index]\n",
        "            model.fit(xtrain, ytrain)\n",
        "            #make predictions on validation data\n",
        "            preds_valid =  model.predict(xvalid)\n",
        "            f1 = f1_score(yvalid, preds_valid)\n",
        "            print(f\"Fold {i} score : \", f1)\n",
        "            scores[name].append(f1)\n",
        "        print(f\"{model} -- mean f1_score {np.mean(scores[name])}\")\n",
        "        print()\n",
        "\n",
        "    #take the mean of scores for every model\n",
        "    for name, model in models.items():\n",
        "        scores[name] = np.mean(np.array(scores[name]))\n",
        "    model_names = scores.keys()\n",
        "    model_scores = scores.values()\n",
        "    results = {\"Model\":model_names,\"f1-score\":model_scores}\n",
        "    results = pd.DataFrame.from_dict(results) #create dictionary of model and corresponding mean rmse score\n",
        "    return results"
      ]
    },
    {
      "cell_type": "code",
      "execution_count": null,
      "metadata": {
        "colab": {
          "base_uri": "https://localhost:8080/"
        },
        "id": "HdYGe1Q_0xjL",
        "outputId": "a523b263-0c47-4ce3-b086-640ed54b578c"
      },
      "outputs": [
        {
          "name": "stdout",
          "output_type": "stream",
          "text": [
            "Running -- Logistic_Regression\n",
            "-------------------------\n",
            "Fold 0 score :  0.8184818481848185\n",
            "Fold 1 score :  0.819672131147541\n",
            "Fold 2 score :  0.8229508196721312\n",
            "Fold 3 score :  0.8178807947019866\n",
            "Fold 4 score :  0.8159203980099501\n",
            "Fold 5 score :  0.8289473684210527\n",
            "Fold 6 score :  0.7999999999999999\n",
            "Fold 7 score :  0.8177339901477834\n",
            "Fold 8 score :  0.8146911519198663\n",
            "Fold 9 score :  0.816260162601626\n",
            "LogisticRegression() -- mean f1_score 0.8172538664806757\n",
            "\n",
            "Running -- light_gradient_boistingt\n",
            "-------------------------\n",
            "Fold 0 score :  0.795221843003413\n",
            "Fold 1 score :  0.7847222222222222\n",
            "Fold 2 score :  0.7771836007130125\n",
            "Fold 3 score :  0.7770034843205575\n",
            "Fold 4 score :  0.7804878048780487\n",
            "Fold 5 score :  0.7860869565217391\n",
            "Fold 6 score :  0.7802385008517888\n",
            "Fold 7 score :  0.7789115646258504\n",
            "Fold 8 score :  0.7943262411347518\n",
            "Fold 9 score :  0.7735191637630663\n",
            "LGBMClassifier(random_state=0, verbose=0) -- mean f1_score 0.7827701382034451\n",
            "\n",
            "Running -- XGboost\n",
            "-------------------------\n",
            "Fold 0 score :  0.773286467486819\n",
            "Fold 1 score :  0.7689594356261024\n",
            "Fold 2 score :  0.7540394973070018\n",
            "Fold 3 score :  0.7692307692307692\n",
            "Fold 4 score :  0.7526501766784451\n",
            "Fold 5 score :  0.7876712328767125\n",
            "Fold 6 score :  0.7495621716287216\n",
            "Fold 7 score :  0.7517482517482518\n",
            "Fold 8 score :  0.7659574468085107\n",
            "Fold 9 score :  0.7612208258527827\n",
            "XGBClassifier(base_score=None, booster=None, callbacks=None,\n",
            "              colsample_bylevel=None, colsample_bynode=None,\n",
            "              colsample_bytree=None, device=None, early_stopping_rounds=None,\n",
            "              enable_categorical=False, eval_metric=None, feature_types=None,\n",
            "              gamma=None, grow_policy=None, importance_type=None,\n",
            "              interaction_constraints=None, learning_rate=None, max_bin=None,\n",
            "              max_cat_threshold=None, max_cat_to_onehot=None,\n",
            "              max_delta_step=None, max_depth=None, max_leaves=None,\n",
            "              min_child_weight=None, missing=nan, monotone_constraints=None,\n",
            "              multi_strategy=None, n_estimators=None, n_jobs=None,\n",
            "              num_parallel_tree=None, random_state=0, ...) -- mean f1_score 0.7634326275244117\n",
            "\n",
            "Running -- Catboost\n",
            "-------------------------\n",
            "Fold 0 score :  0.803361344537815\n",
            "Fold 1 score :  0.7966666666666667\n",
            "Fold 2 score :  0.7918781725888325\n",
            "Fold 3 score :  0.8133333333333332\n",
            "Fold 4 score :  0.8140703517587939\n",
            "Fold 5 score :  0.8217821782178218\n",
            "Fold 6 score :  0.7960199004975125\n",
            "Fold 7 score :  0.79\n",
            "Fold 8 score :  0.807495741056218\n",
            "Fold 9 score :  0.8086522462562395\n",
            "<catboost.core.CatBoostClassifier object at 0x7a0b7e6071f0> -- mean f1_score 0.8043259934913232\n",
            "\n",
            "Running -- Gradient_boosting\n",
            "-------------------------\n",
            "Fold 0 score :  0.8087248322147651\n",
            "Fold 1 score :  0.802013422818792\n",
            "Fold 2 score :  0.8074324324324326\n",
            "Fold 3 score :  0.8\n",
            "Fold 4 score :  0.8207705192629815\n",
            "Fold 5 score :  0.8159203980099501\n",
            "Fold 6 score :  0.7973421926910299\n",
            "Fold 7 score :  0.8124999999999999\n",
            "Fold 8 score :  0.803448275862069\n",
            "Fold 9 score :  0.8128161888701518\n",
            "GradientBoostingClassifier(random_state=0) -- mean f1_score 0.8080968262162171\n",
            "\n"
          ]
        }
      ],
      "source": [
        "validation_results= run(models)"
      ]
    },
    {
      "cell_type": "code",
      "execution_count": null,
      "metadata": {
        "colab": {
          "base_uri": "https://localhost:8080/",
          "height": 206
        },
        "id": "yBCTBMrjL2EW",
        "outputId": "a000e2ba-c2f4-48d2-b340-a1a5976a87de"
      },
      "outputs": [
        {
          "data": {
            "text/html": [
              "\n",
              "  <div id=\"df-89b77b25-54ff-4d5c-8e8a-97eb6a692c14\" class=\"colab-df-container\">\n",
              "    <div>\n",
              "<style scoped>\n",
              "    .dataframe tbody tr th:only-of-type {\n",
              "        vertical-align: middle;\n",
              "    }\n",
              "\n",
              "    .dataframe tbody tr th {\n",
              "        vertical-align: top;\n",
              "    }\n",
              "\n",
              "    .dataframe thead th {\n",
              "        text-align: right;\n",
              "    }\n",
              "</style>\n",
              "<table border=\"1\" class=\"dataframe\">\n",
              "  <thead>\n",
              "    <tr style=\"text-align: right;\">\n",
              "      <th></th>\n",
              "      <th>Model</th>\n",
              "      <th>f1-score</th>\n",
              "    </tr>\n",
              "  </thead>\n",
              "  <tbody>\n",
              "    <tr>\n",
              "      <th>0</th>\n",
              "      <td>Logistic_Regression</td>\n",
              "      <td>0.817254</td>\n",
              "    </tr>\n",
              "    <tr>\n",
              "      <th>1</th>\n",
              "      <td>light_gradient_boistingt</td>\n",
              "      <td>0.782770</td>\n",
              "    </tr>\n",
              "    <tr>\n",
              "      <th>2</th>\n",
              "      <td>XGboost</td>\n",
              "      <td>0.763433</td>\n",
              "    </tr>\n",
              "    <tr>\n",
              "      <th>3</th>\n",
              "      <td>Catboost</td>\n",
              "      <td>0.804326</td>\n",
              "    </tr>\n",
              "    <tr>\n",
              "      <th>4</th>\n",
              "      <td>Gradient_boosting</td>\n",
              "      <td>0.808097</td>\n",
              "    </tr>\n",
              "  </tbody>\n",
              "</table>\n",
              "</div>\n",
              "    <div class=\"colab-df-buttons\">\n",
              "\n",
              "  <div class=\"colab-df-container\">\n",
              "    <button class=\"colab-df-convert\" onclick=\"convertToInteractive('df-89b77b25-54ff-4d5c-8e8a-97eb6a692c14')\"\n",
              "            title=\"Convert this dataframe to an interactive table.\"\n",
              "            style=\"display:none;\">\n",
              "\n",
              "  <svg xmlns=\"http://www.w3.org/2000/svg\" height=\"24px\" viewBox=\"0 -960 960 960\">\n",
              "    <path d=\"M120-120v-720h720v720H120Zm60-500h600v-160H180v160Zm220 220h160v-160H400v160Zm0 220h160v-160H400v160ZM180-400h160v-160H180v160Zm440 0h160v-160H620v160ZM180-180h160v-160H180v160Zm440 0h160v-160H620v160Z\"/>\n",
              "  </svg>\n",
              "    </button>\n",
              "\n",
              "  <style>\n",
              "    .colab-df-container {\n",
              "      display:flex;\n",
              "      gap: 12px;\n",
              "    }\n",
              "\n",
              "    .colab-df-convert {\n",
              "      background-color: #E8F0FE;\n",
              "      border: none;\n",
              "      border-radius: 50%;\n",
              "      cursor: pointer;\n",
              "      display: none;\n",
              "      fill: #1967D2;\n",
              "      height: 32px;\n",
              "      padding: 0 0 0 0;\n",
              "      width: 32px;\n",
              "    }\n",
              "\n",
              "    .colab-df-convert:hover {\n",
              "      background-color: #E2EBFA;\n",
              "      box-shadow: 0px 1px 2px rgba(60, 64, 67, 0.3), 0px 1px 3px 1px rgba(60, 64, 67, 0.15);\n",
              "      fill: #174EA6;\n",
              "    }\n",
              "\n",
              "    .colab-df-buttons div {\n",
              "      margin-bottom: 4px;\n",
              "    }\n",
              "\n",
              "    [theme=dark] .colab-df-convert {\n",
              "      background-color: #3B4455;\n",
              "      fill: #D2E3FC;\n",
              "    }\n",
              "\n",
              "    [theme=dark] .colab-df-convert:hover {\n",
              "      background-color: #434B5C;\n",
              "      box-shadow: 0px 1px 3px 1px rgba(0, 0, 0, 0.15);\n",
              "      filter: drop-shadow(0px 1px 2px rgba(0, 0, 0, 0.3));\n",
              "      fill: #FFFFFF;\n",
              "    }\n",
              "  </style>\n",
              "\n",
              "    <script>\n",
              "      const buttonEl =\n",
              "        document.querySelector('#df-89b77b25-54ff-4d5c-8e8a-97eb6a692c14 button.colab-df-convert');\n",
              "      buttonEl.style.display =\n",
              "        google.colab.kernel.accessAllowed ? 'block' : 'none';\n",
              "\n",
              "      async function convertToInteractive(key) {\n",
              "        const element = document.querySelector('#df-89b77b25-54ff-4d5c-8e8a-97eb6a692c14');\n",
              "        const dataTable =\n",
              "          await google.colab.kernel.invokeFunction('convertToInteractive',\n",
              "                                                    [key], {});\n",
              "        if (!dataTable) return;\n",
              "\n",
              "        const docLinkHtml = 'Like what you see? Visit the ' +\n",
              "          '<a target=\"_blank\" href=https://colab.research.google.com/notebooks/data_table.ipynb>data table notebook</a>'\n",
              "          + ' to learn more about interactive tables.';\n",
              "        element.innerHTML = '';\n",
              "        dataTable['output_type'] = 'display_data';\n",
              "        await google.colab.output.renderOutput(dataTable, element);\n",
              "        const docLink = document.createElement('div');\n",
              "        docLink.innerHTML = docLinkHtml;\n",
              "        element.appendChild(docLink);\n",
              "      }\n",
              "    </script>\n",
              "  </div>\n",
              "\n",
              "\n",
              "<div id=\"df-76cb7440-a313-4281-a7e7-36a4bc0cea6c\">\n",
              "  <button class=\"colab-df-quickchart\" onclick=\"quickchart('df-76cb7440-a313-4281-a7e7-36a4bc0cea6c')\"\n",
              "            title=\"Suggest charts\"\n",
              "            style=\"display:none;\">\n",
              "\n",
              "<svg xmlns=\"http://www.w3.org/2000/svg\" height=\"24px\"viewBox=\"0 0 24 24\"\n",
              "     width=\"24px\">\n",
              "    <g>\n",
              "        <path d=\"M19 3H5c-1.1 0-2 .9-2 2v14c0 1.1.9 2 2 2h14c1.1 0 2-.9 2-2V5c0-1.1-.9-2-2-2zM9 17H7v-7h2v7zm4 0h-2V7h2v10zm4 0h-2v-4h2v4z\"/>\n",
              "    </g>\n",
              "</svg>\n",
              "  </button>\n",
              "\n",
              "<style>\n",
              "  .colab-df-quickchart {\n",
              "      --bg-color: #E8F0FE;\n",
              "      --fill-color: #1967D2;\n",
              "      --hover-bg-color: #E2EBFA;\n",
              "      --hover-fill-color: #174EA6;\n",
              "      --disabled-fill-color: #AAA;\n",
              "      --disabled-bg-color: #DDD;\n",
              "  }\n",
              "\n",
              "  [theme=dark] .colab-df-quickchart {\n",
              "      --bg-color: #3B4455;\n",
              "      --fill-color: #D2E3FC;\n",
              "      --hover-bg-color: #434B5C;\n",
              "      --hover-fill-color: #FFFFFF;\n",
              "      --disabled-bg-color: #3B4455;\n",
              "      --disabled-fill-color: #666;\n",
              "  }\n",
              "\n",
              "  .colab-df-quickchart {\n",
              "    background-color: var(--bg-color);\n",
              "    border: none;\n",
              "    border-radius: 50%;\n",
              "    cursor: pointer;\n",
              "    display: none;\n",
              "    fill: var(--fill-color);\n",
              "    height: 32px;\n",
              "    padding: 0;\n",
              "    width: 32px;\n",
              "  }\n",
              "\n",
              "  .colab-df-quickchart:hover {\n",
              "    background-color: var(--hover-bg-color);\n",
              "    box-shadow: 0 1px 2px rgba(60, 64, 67, 0.3), 0 1px 3px 1px rgba(60, 64, 67, 0.15);\n",
              "    fill: var(--button-hover-fill-color);\n",
              "  }\n",
              "\n",
              "  .colab-df-quickchart-complete:disabled,\n",
              "  .colab-df-quickchart-complete:disabled:hover {\n",
              "    background-color: var(--disabled-bg-color);\n",
              "    fill: var(--disabled-fill-color);\n",
              "    box-shadow: none;\n",
              "  }\n",
              "\n",
              "  .colab-df-spinner {\n",
              "    border: 2px solid var(--fill-color);\n",
              "    border-color: transparent;\n",
              "    border-bottom-color: var(--fill-color);\n",
              "    animation:\n",
              "      spin 1s steps(1) infinite;\n",
              "  }\n",
              "\n",
              "  @keyframes spin {\n",
              "    0% {\n",
              "      border-color: transparent;\n",
              "      border-bottom-color: var(--fill-color);\n",
              "      border-left-color: var(--fill-color);\n",
              "    }\n",
              "    20% {\n",
              "      border-color: transparent;\n",
              "      border-left-color: var(--fill-color);\n",
              "      border-top-color: var(--fill-color);\n",
              "    }\n",
              "    30% {\n",
              "      border-color: transparent;\n",
              "      border-left-color: var(--fill-color);\n",
              "      border-top-color: var(--fill-color);\n",
              "      border-right-color: var(--fill-color);\n",
              "    }\n",
              "    40% {\n",
              "      border-color: transparent;\n",
              "      border-right-color: var(--fill-color);\n",
              "      border-top-color: var(--fill-color);\n",
              "    }\n",
              "    60% {\n",
              "      border-color: transparent;\n",
              "      border-right-color: var(--fill-color);\n",
              "    }\n",
              "    80% {\n",
              "      border-color: transparent;\n",
              "      border-right-color: var(--fill-color);\n",
              "      border-bottom-color: var(--fill-color);\n",
              "    }\n",
              "    90% {\n",
              "      border-color: transparent;\n",
              "      border-bottom-color: var(--fill-color);\n",
              "    }\n",
              "  }\n",
              "</style>\n",
              "\n",
              "  <script>\n",
              "    async function quickchart(key) {\n",
              "      const quickchartButtonEl =\n",
              "        document.querySelector('#' + key + ' button');\n",
              "      quickchartButtonEl.disabled = true;  // To prevent multiple clicks.\n",
              "      quickchartButtonEl.classList.add('colab-df-spinner');\n",
              "      try {\n",
              "        const charts = await google.colab.kernel.invokeFunction(\n",
              "            'suggestCharts', [key], {});\n",
              "      } catch (error) {\n",
              "        console.error('Error during call to suggestCharts:', error);\n",
              "      }\n",
              "      quickchartButtonEl.classList.remove('colab-df-spinner');\n",
              "      quickchartButtonEl.classList.add('colab-df-quickchart-complete');\n",
              "    }\n",
              "    (() => {\n",
              "      let quickchartButtonEl =\n",
              "        document.querySelector('#df-76cb7440-a313-4281-a7e7-36a4bc0cea6c button');\n",
              "      quickchartButtonEl.style.display =\n",
              "        google.colab.kernel.accessAllowed ? 'block' : 'none';\n",
              "    })();\n",
              "  </script>\n",
              "</div>\n",
              "    </div>\n",
              "  </div>\n"
            ],
            "text/plain": [
              "                      Model  f1-score\n",
              "0       Logistic_Regression  0.817254\n",
              "1  light_gradient_boistingt  0.782770\n",
              "2                   XGboost  0.763433\n",
              "3                  Catboost  0.804326\n",
              "4         Gradient_boosting  0.808097"
            ]
          },
          "execution_count": 21,
          "metadata": {},
          "output_type": "execute_result"
        }
      ],
      "source": [
        "validation_results.head()"
      ]
    },
    {
      "cell_type": "code",
      "execution_count": null,
      "metadata": {
        "colab": {
          "base_uri": "https://localhost:8080/",
          "height": 564
        },
        "id": "nlSzA7YsL88H",
        "outputId": "e6a5034f-d344-486f-9641-b2e6953a1dbe"
      },
      "outputs": [
        {
          "data": {
            "image/png": "[encoded data removed]",
            "text/plain": [
              "<Figure size 640x480 with 1 Axes>"
            ]
          },
          "metadata": {},
          "output_type": "display_data"
        }
      ],
      "source": [
        "models  = validation_results[\"Model\"]\n",
        "score  = np.round(validation_results[\"f1-score\"],2)\n",
        "\n",
        "x = np.arange(len(models)) # the label locations\n",
        "width = 0.35 # the width of the bars\n",
        "\n",
        "fig, ax = plt.subplots()\n",
        "\n",
        "ax.set_ylabel('F1 Score')\n",
        "ax.set_title('Model')\n",
        "ax.set_xticks(x)\n",
        "ax.set_xticklabels(models,rotation=45)\n",
        "\n",
        "pps = ax.bar(x - width/2, score, width, label='f1-score')\n",
        "for p in pps:\n",
        "   height = p.get_height()\n",
        "   ax.annotate('{}'.format(height),\n",
        "      xy=(p.get_x() + p.get_width() / 2, height),\n",
        "      xytext=(0, 3), # 3 points vertical offset\n",
        "      textcoords=\"offset points\",\n",
        "      ha='center', va='bottom')\n",
        "\n",
        "plt.show()"
      ]
    },
    {
      "cell_type": "markdown",
      "metadata": {
        "id": "892nB-5dSe7X"
      },
      "source": [
        "Comment : Logistic regresssion and Gradient boosting machine happens to be the best model so far, we would further perform hyperparameter optimization for better results and analysis"
      ]
    },
    {
      "cell_type": "markdown",
      "metadata": {
        "id": "HiYeERULvopA"
      },
      "source": [
        "Data splitting"
      ]
    },
    {
      "cell_type": "code",
      "execution_count": null,
      "metadata": {
        "id": "8pdUAiypuO2Z"
      },
      "outputs": [],
      "source": [
        "# Specify the test size and random seed\n",
        "test_size = 0.2\n",
        "random_seed = 42\n",
        "\n",
        "# Split the dataset into a train and test set, maintaining class proportions\n",
        "X_train, X_test, y_train, y_test = train_test_split(input_features, y, test_size=test_size, stratify=y, random_state=random_seed)\n"
      ]
    },
    {
      "cell_type": "markdown",
      "metadata": {
        "id": "T1Wc4bnhvpcj"
      },
      "source": [
        "Model Training\n",
        "\n",
        "- The top two models - Logistic Regression and Gradient boosting classifier"
      ]
    },
    {
      "cell_type": "code",
      "execution_count": null,
      "metadata": {
        "colab": {
          "base_uri": "https://localhost:8080/",
          "height": 74
        },
        "id": "PCVAL01ivo1t",
        "outputId": "cbca0eb3-3c94-47fd-cbcc-bbfea181b1a2"
      },
      "outputs": [
        {
          "data": {
            "text/html": [
              "<style>#sk-container-id-1 {color: black;background-color: white;}#sk-container-id-1 pre{padding: 0;}#sk-container-id-1 div.sk-toggleable {background-color: white;}#sk-container-id-1 label.sk-toggleable__label {cursor: pointer;display: block;width: 100%;margin-bottom: 0;padding: 0.3em;box-sizing: border-box;text-align: center;}#sk-container-id-1 label.sk-toggleable__label-arrow:before {content: \"▸\";float: left;margin-right: 0.25em;color: #696969;}#sk-container-id-1 label.sk-toggleable__label-arrow:hover:before {color: black;}#sk-container-id-1 div.sk-estimator:hover label.sk-toggleable__label-arrow:before {color: black;}#sk-container-id-1 div.sk-toggleable__content {max-height: 0;max-width: 0;overflow: hidden;text-align: left;background-color: #f0f8ff;}#sk-container-id-1 div.sk-toggleable__content pre {margin: 0.2em;color: black;border-radius: 0.25em;background-color: #f0f8ff;}#sk-container-id-1 input.sk-toggleable__control:checked~div.sk-toggleable__content {max-height: 200px;max-width: 100%;overflow: auto;}#sk-container-id-1 input.sk-toggleable__control:checked~label.sk-toggleable__label-arrow:before {content: \"▾\";}#sk-container-id-1 div.sk-estimator input.sk-toggleable__control:checked~label.sk-toggleable__label {background-color: #d4ebff;}#sk-container-id-1 div.sk-label input.sk-toggleable__control:checked~label.sk-toggleable__label {background-color: #d4ebff;}#sk-container-id-1 input.sk-hidden--visually {border: 0;clip: rect(1px 1px 1px 1px);clip: rect(1px, 1px, 1px, 1px);height: 1px;margin: -1px;overflow: hidden;padding: 0;position: absolute;width: 1px;}#sk-container-id-1 div.sk-estimator {font-family: monospace;background-color: #f0f8ff;border: 1px dotted black;border-radius: 0.25em;box-sizing: border-box;margin-bottom: 0.5em;}#sk-container-id-1 div.sk-estimator:hover {background-color: #d4ebff;}#sk-container-id-1 div.sk-parallel-item::after {content: \"\";width: 100%;border-bottom: 1px solid gray;flex-grow: 1;}#sk-container-id-1 div.sk-label:hover label.sk-toggleable__label {background-color: #d4ebff;}#sk-container-id-1 div.sk-serial::before {content: \"\";position: absolute;border-left: 1px solid gray;box-sizing: border-box;top: 0;bottom: 0;left: 50%;z-index: 0;}#sk-container-id-1 div.sk-serial {display: flex;flex-direction: column;align-items: center;background-color: white;padding-right: 0.2em;padding-left: 0.2em;position: relative;}#sk-container-id-1 div.sk-item {position: relative;z-index: 1;}#sk-container-id-1 div.sk-parallel {display: flex;align-items: stretch;justify-content: center;background-color: white;position: relative;}#sk-container-id-1 div.sk-item::before, #sk-container-id-1 div.sk-parallel-item::before {content: \"\";position: absolute;border-left: 1px solid gray;box-sizing: border-box;top: 0;bottom: 0;left: 50%;z-index: -1;}#sk-container-id-1 div.sk-parallel-item {display: flex;flex-direction: column;z-index: 1;position: relative;background-color: white;}#sk-container-id-1 div.sk-parallel-item:first-child::after {align-self: flex-end;width: 50%;}#sk-container-id-1 div.sk-parallel-item:last-child::after {align-self: flex-start;width: 50%;}#sk-container-id-1 div.sk-parallel-item:only-child::after {width: 0;}#sk-container-id-1 div.sk-dashed-wrapped {border: 1px dashed gray;margin: 0 0.4em 0.5em 0.4em;box-sizing: border-box;padding-bottom: 0.4em;background-color: white;}#sk-container-id-1 div.sk-label label {font-family: monospace;font-weight: bold;display: inline-block;line-height: 1.2em;}#sk-container-id-1 div.sk-label-container {text-align: center;}#sk-container-id-1 div.sk-container {/* jupyter's `normalize.less` sets `[hidden] { display: none; }` but bootstrap.min.css set `[hidden] { display: none !important; }` so we also need the `!important` here to be able to override the default hidden behavior on the sphinx rendered scikit-learn.org. See: https://github.com/scikit-learn/scikit-learn/issues/21755 */display: inline-block !important;position: relative;}#sk-container-id-1 div.sk-text-repr-fallback {display: none;}</style><div id=\"sk-container-id-1\" class=\"sk-top-container\"><div class=\"sk-text-repr-fallback\"><pre>LogisticRegression()</pre><b>In a Jupyter environment, please rerun this cell to show the HTML representation or trust the notebook. <br />On GitHub, the HTML representation is unable to render, please try loading this page with nbviewer.org.</b></div><div class=\"sk-container\" hidden><div class=\"sk-item\"><div class=\"sk-estimator sk-toggleable\"><input class=\"sk-toggleable__control sk-hidden--visually\" id=\"sk-estimator-id-1\" type=\"checkbox\" checked><label for=\"sk-estimator-id-1\" class=\"sk-toggleable__label sk-toggleable__label-arrow\">LogisticRegression</label><div class=\"sk-toggleable__content\"><pre>LogisticRegression()</pre></div></div></div></div></div>"
            ],
            "text/plain": [
              "LogisticRegression()"
            ]
          },
          "execution_count": 36,
          "metadata": {},
          "output_type": "execute_result"
        }
      ],
      "source": [
        "#Linear Regression\n",
        "logistic_Reg = LogisticRegression()\n",
        "logistic_Reg.fit(X_train,y_train)"
      ]
    },
    {
      "cell_type": "code",
      "execution_count": null,
      "metadata": {
        "colab": {
          "base_uri": "https://localhost:8080/",
          "height": 74
        },
        "id": "9T6WG1Waw0Wz",
        "outputId": "d290e9c4-392e-4ac0-cb3b-f4257378846b"
      },
      "outputs": [
        {
          "data": {
            "text/html": [
              "<style>#sk-container-id-2 {color: black;background-color: white;}#sk-container-id-2 pre{padding: 0;}#sk-container-id-2 div.sk-toggleable {background-color: white;}#sk-container-id-2 label.sk-toggleable__label {cursor: pointer;display: block;width: 100%;margin-bottom: 0;padding: 0.3em;box-sizing: border-box;text-align: center;}#sk-container-id-2 label.sk-toggleable__label-arrow:before {content: \"▸\";float: left;margin-right: 0.25em;color: #696969;}#sk-container-id-2 label.sk-toggleable__label-arrow:hover:before {color: black;}#sk-container-id-2 div.sk-estimator:hover label.sk-toggleable__label-arrow:before {color: black;}#sk-container-id-2 div.sk-toggleable__content {max-height: 0;max-width: 0;overflow: hidden;text-align: left;background-color: #f0f8ff;}#sk-container-id-2 div.sk-toggleable__content pre {margin: 0.2em;color: black;border-radius: 0.25em;background-color: #f0f8ff;}#sk-container-id-2 input.sk-toggleable__control:checked~div.sk-toggleable__content {max-height: 200px;max-width: 100%;overflow: auto;}#sk-container-id-2 input.sk-toggleable__control:checked~label.sk-toggleable__label-arrow:before {content: \"▾\";}#sk-container-id-2 div.sk-estimator input.sk-toggleable__control:checked~label.sk-toggleable__label {background-color: #d4ebff;}#sk-container-id-2 div.sk-label input.sk-toggleable__control:checked~label.sk-toggleable__label {background-color: #d4ebff;}#sk-container-id-2 input.sk-hidden--visually {border: 0;clip: rect(1px 1px 1px 1px);clip: rect(1px, 1px, 1px, 1px);height: 1px;margin: -1px;overflow: hidden;padding: 0;position: absolute;width: 1px;}#sk-container-id-2 div.sk-estimator {font-family: monospace;background-color: #f0f8ff;border: 1px dotted black;border-radius: 0.25em;box-sizing: border-box;margin-bottom: 0.5em;}#sk-container-id-2 div.sk-estimator:hover {background-color: #d4ebff;}#sk-container-id-2 div.sk-parallel-item::after {content: \"\";width: 100%;border-bottom: 1px solid gray;flex-grow: 1;}#sk-container-id-2 div.sk-label:hover label.sk-toggleable__label {background-color: #d4ebff;}#sk-container-id-2 div.sk-serial::before {content: \"\";position: absolute;border-left: 1px solid gray;box-sizing: border-box;top: 0;bottom: 0;left: 50%;z-index: 0;}#sk-container-id-2 div.sk-serial {display: flex;flex-direction: column;align-items: center;background-color: white;padding-right: 0.2em;padding-left: 0.2em;position: relative;}#sk-container-id-2 div.sk-item {position: relative;z-index: 1;}#sk-container-id-2 div.sk-parallel {display: flex;align-items: stretch;justify-content: center;background-color: white;position: relative;}#sk-container-id-2 div.sk-item::before, #sk-container-id-2 div.sk-parallel-item::before {content: \"\";position: absolute;border-left: 1px solid gray;box-sizing: border-box;top: 0;bottom: 0;left: 50%;z-index: -1;}#sk-container-id-2 div.sk-parallel-item {display: flex;flex-direction: column;z-index: 1;position: relative;background-color: white;}#sk-container-id-2 div.sk-parallel-item:first-child::after {align-self: flex-end;width: 50%;}#sk-container-id-2 div.sk-parallel-item:last-child::after {align-self: flex-start;width: 50%;}#sk-container-id-2 div.sk-parallel-item:only-child::after {width: 0;}#sk-container-id-2 div.sk-dashed-wrapped {border: 1px dashed gray;margin: 0 0.4em 0.5em 0.4em;box-sizing: border-box;padding-bottom: 0.4em;background-color: white;}#sk-container-id-2 div.sk-label label {font-family: monospace;font-weight: bold;display: inline-block;line-height: 1.2em;}#sk-container-id-2 div.sk-label-container {text-align: center;}#sk-container-id-2 div.sk-container {/* jupyter's `normalize.less` sets `[hidden] { display: none; }` but bootstrap.min.css set `[hidden] { display: none !important; }` so we also need the `!important` here to be able to override the default hidden behavior on the sphinx rendered scikit-learn.org. See: https://github.com/scikit-learn/scikit-learn/issues/21755 */display: inline-block !important;position: relative;}#sk-container-id-2 div.sk-text-repr-fallback {display: none;}</style><div id=\"sk-container-id-2\" class=\"sk-top-container\"><div class=\"sk-text-repr-fallback\"><pre>GradientBoostingClassifier()</pre><b>In a Jupyter environment, please rerun this cell to show the HTML representation or trust the notebook. <br />On GitHub, the HTML representation is unable to render, please try loading this page with nbviewer.org.</b></div><div class=\"sk-container\" hidden><div class=\"sk-item\"><div class=\"sk-estimator sk-toggleable\"><input class=\"sk-toggleable__control sk-hidden--visually\" id=\"sk-estimator-id-2\" type=\"checkbox\" checked><label for=\"sk-estimator-id-2\" class=\"sk-toggleable__label sk-toggleable__label-arrow\">GradientBoostingClassifier</label><div class=\"sk-toggleable__content\"><pre>GradientBoostingClassifier()</pre></div></div></div></div></div>"
            ],
            "text/plain": [
              "GradientBoostingClassifier()"
            ]
          },
          "execution_count": 37,
          "metadata": {},
          "output_type": "execute_result"
        }
      ],
      "source": [
        "#Gradient Boosting classifier\n",
        "Gradient_boosting = GradientBoostingClassifier()\n",
        "Gradient_boosting.fit(X_train,y_train)"
      ]
    },
    {
      "cell_type": "markdown",
      "metadata": {
        "id": "hpgAx9eIyBKu"
      },
      "source": [
        "Model Evaluation"
      ]
    },
    {
      "cell_type": "code",
      "execution_count": null,
      "metadata": {
        "colab": {
          "base_uri": "https://localhost:8080/"
        },
        "id": "AbPIpCdmxhla",
        "outputId": "7996d487-03fc-42f7-c428-d2134879ee47"
      },
      "outputs": [
        {
          "name": "stdout",
          "output_type": "stream",
          "text": [
            "F1-Score for logistic regression is 0.8243021346469623\n",
            "___________________________________________________________________\n",
            "F1-Score for Gradient Boosting is 0.8201680672268907\n"
          ]
        }
      ],
      "source": [
        "#evaluating logistic regression\n",
        "preds_logR = logistic_Reg.predict(X_test)\n",
        "print(f\"F1-Score for logistic regression is {f1_score(y_test,preds_logR)}\")\n",
        "\n",
        "print(\"______________________________________________________________________\")\n",
        "\n",
        "#evaluating logistic regression\n",
        "preds_gradB = Gradient_boosting.predict(X_test)\n",
        "print(f\"F1-Score for Gradient Boosting is {f1_score(y_test,preds_gradB)}\")\n"
      ]
    },
    {
      "cell_type": "code",
      "execution_count": null,
      "metadata": {
        "colab": {
          "base_uri": "https://localhost:8080/",
          "height": 472
        },
        "id": "791Gv3VMxhh8",
        "outputId": "2f914fb7-7ba1-4d7a-f7da-18684241bf8e"
      },
      "outputs": [
        {
          "data": {
            "image/png": "[encoded data removed]",
            "text/plain": [
              "<Figure size 640x480 with 1 Axes>"
            ]
          },
          "metadata": {},
          "output_type": "display_data"
        }
      ],
      "source": [
        "def class_report(true_labels,predicted_labels,model_name):\n",
        "      # Compute the classification report\n",
        "      report = classification_report(true_labels, predicted_labels,output_dict=True)\n",
        "\n",
        "\n",
        "      # Extract metrics for each class\n",
        "      precision = [report[str(i)]['precision'] for i in range(2)]\n",
        "      recall = [report[str(i)]['recall'] for i in range(2)]\n",
        "      f1_score = [report[str(i)]['f1-score'] for i in range(2)]\n",
        "      support = [report[str(i)]['support'] for i in range(2)]\n",
        "      class_names = [str(i) for i in range(2)]\n",
        "\n",
        "      # Create a bar plot for precision, recall, and F1-score\n",
        "      x = np.arange(len(class_names))\n",
        "      width = 0.2\n",
        "\n",
        "      fig, ax = plt.subplots()\n",
        "      bar_width = 0.2\n",
        "      index = np.arange(len(class_names))\n",
        "\n",
        "      plt.bar(index - bar_width, precision, bar_width, label='Precision')\n",
        "      plt.bar(index, recall, bar_width, label='Recall')\n",
        "      plt.bar(index + bar_width, f1_score, bar_width, label='F1-Score')\n",
        "\n",
        "      plt.xlabel('Class')\n",
        "      plt.ylabel('Score')\n",
        "      plt.xticks(index, class_names)\n",
        "      plt.title(f\"Evaluation results for {model_name}\")\n",
        "      plt.legend()\n",
        "      plt.show()\n",
        "class_report(true_labels=y_test,predicted_labels=preds_logR,model_name=\"Logistic Regression\")"
      ]
    },
    {
      "cell_type": "code",
      "execution_count": null,
      "metadata": {
        "colab": {
          "base_uri": "https://localhost:8080/",
          "height": 472
        },
        "id": "dkt_KMFp0i1U",
        "outputId": "346263b5-af47-414b-eb48-eceb894ec1b7"
      },
      "outputs": [
        {
          "data": {
            "image/png": "[encoded data removed]",
            "text/plain": [
              "<Figure size 640x480 with 1 Axes>"
            ]
          },
          "metadata": {},
          "output_type": "display_data"
        }
      ],
      "source": [
        "class_report(true_labels=y_test,predicted_labels=preds_gradB,model_name=\"Gradient Boosting Machine\")"
      ]
    },
    {
      "cell_type": "markdown",
      "metadata": {
        "id": "Tvnjq3ap2Wjj"
      },
      "source": [
        "Hyperparameter Optimization\n",
        "- We will use optuna to optimize gradient boosting and catboost parameters and evaluated the resulted outcome\n",
        "\n"
      ]
    },
    {
      "cell_type": "code",
      "execution_count": null,
      "metadata": {
        "colab": {
          "base_uri": "https://localhost:8080/"
        },
        "id": "DvJ-bfB1xg31",
        "outputId": "52d2c8e2-8591-4489-d644-8fc5050f4cf3"
      },
      "outputs": [
        {
          "name": "stdout",
          "output_type": "stream",
          "text": [
            "Collecting optuna\n",
            "  Downloading optuna-3.4.0-py3-none-any.whl (409 kB)\n",
            "\u001b[2K     \u001b[90m━━━━━━━━━━━━━━━━━━━━━━━━━━━━━━━━━━━━━━━━\u001b[0m \u001b[32m409.6/409.6 kB\u001b[0m \u001b[31m5.5 MB/s\u001b[0m eta \u001b[36m0:00:00\u001b[0m\n",
            "\u001b[?25hCollecting alembic>=1.5.0 (from optuna)\n",
            "  Downloading alembic-1.12.1-py3-none-any.whl (226 kB)\n",
            "\u001b[2K     \u001b[90m━━━━━━━━━━━━━━━━━━━━━━━━━━━━━━━━━━━━━━━━\u001b[0m \u001b[32m226.8/226.8 kB\u001b[0m \u001b[31m21.7 MB/s\u001b[0m eta \u001b[36m0:00:00\u001b[0m\n",
            "\u001b[?25hCollecting colorlog (from optuna)\n",
            "  Downloading colorlog-6.7.0-py2.py3-none-any.whl (11 kB)\n",
            "Requirement already satisfied: numpy in /usr/local/lib/python3.10/dist-packages (from optuna) (1.23.5)\n",
            "Requirement already satisfied: packaging>=20.0 in /usr/local/lib/python3.10/dist-packages (from optuna) (23.2)\n",
            "Requirement already satisfied: sqlalchemy>=1.3.0 in /usr/local/lib/python3.10/dist-packages (from optuna) (2.0.23)\n",
            "Requirement already satisfied: tqdm in /usr/local/lib/python3.10/dist-packages (from optuna) (4.66.1)\n",
            "Requirement already satisfied: PyYAML in /usr/local/lib/python3.10/dist-packages (from optuna) (6.0.1)\n",
            "Collecting Mako (from alembic>=1.5.0->optuna)\n",
            "  Downloading Mako-1.3.0-py3-none-any.whl (78 kB)\n",
            "\u001b[2K     \u001b[90m━━━━━━━━━━━━━━━━━━━━━━━━━━━━━━━━━━━━━━━━\u001b[0m \u001b[32m78.6/78.6 kB\u001b[0m \u001b[31m9.1 MB/s\u001b[0m eta \u001b[36m0:00:00\u001b[0m\n",
            "\u001b[?25hRequirement already satisfied: typing-extensions>=4 in /usr/local/lib/python3.10/dist-packages (from alembic>=1.5.0->optuna) (4.5.0)\n",
            "Requirement already satisfied: greenlet!=0.4.17 in /usr/local/lib/python3.10/dist-packages (from sqlalchemy>=1.3.0->optuna) (3.0.1)\n",
            "Requirement already satisfied: MarkupSafe>=0.9.2 in /usr/local/lib/python3.10/dist-packages (from Mako->alembic>=1.5.0->optuna) (2.1.3)\n",
            "Installing collected packages: Mako, colorlog, alembic, optuna\n",
            "Successfully installed Mako-1.3.0 alembic-1.12.1 colorlog-6.7.0 optuna-3.4.0\n"
          ]
        }
      ],
      "source": [
        "!pip install optuna"
      ]
    },
    {
      "cell_type": "code",
      "execution_count": null,
      "metadata": {
        "colab": {
          "base_uri": "https://localhost:8080/"
        },
        "id": "XfBpnR_exg0V",
        "outputId": "9727eb6c-4002-4847-fcef-3005cbefa776"
      },
      "outputs": [
        {
          "name": "stderr",
          "output_type": "stream",
          "text": [
            "[I 2023-11-09 21:13:16,422] A new study created in memory with name: no-name-0d024ec8-e2f1-4735-8d9e-6f89bc7e2bed\n",
            "[I 2023-11-09 21:13:17,125] Trial 0 finished with value: 0.8131147540983606 and parameters: {'iterations': 341, 'depth': 6, 'learning_rate': 0.028106056981257243, 'l2_leaf_reg': 0.07175273049721868}. Best is trial 0 with value: 0.8131147540983606.\n",
            "[I 2023-11-09 21:13:18,314] Trial 1 finished with value: 0.8336079077429984 and parameters: {'iterations': 550, 'depth': 5, 'learning_rate': 0.010894987280137757, 'l2_leaf_reg': 0.2950080589963245}. Best is trial 1 with value: 0.8336079077429984.\n",
            "[I 2023-11-09 21:13:30,171] Trial 2 finished with value: 0.7999999999999999 and parameters: {'iterations': 894, 'depth': 9, 'learning_rate': 0.047026385131158546, 'l2_leaf_reg': 0.010016645204603707}. Best is trial 1 with value: 0.8336079077429984.\n",
            "[I 2023-11-09 21:13:31,858] Trial 3 finished with value: 0.8066666666666666 and parameters: {'iterations': 916, 'depth': 4, 'learning_rate': 0.025659496695654545, 'l2_leaf_reg': 0.019160267883843413}. Best is trial 1 with value: 0.8336079077429984.\n",
            "[I 2023-11-09 21:13:32,952] Trial 4 finished with value: 0.7731958762886597 and parameters: {'iterations': 573, 'depth': 6, 'learning_rate': 0.2235592564295604, 'l2_leaf_reg': 0.029066800014397775}. Best is trial 1 with value: 0.8336079077429984.\n",
            "[I 2023-11-09 21:13:39,738] Trial 5 finished with value: 0.8058252427184466 and parameters: {'iterations': 979, 'depth': 9, 'learning_rate': 0.01616987462625698, 'l2_leaf_reg': 0.10822445470773148}. Best is trial 1 with value: 0.8336079077429984.\n",
            "[I 2023-11-09 21:13:41,822] Trial 6 finished with value: 0.8150572831423896 and parameters: {'iterations': 510, 'depth': 6, 'learning_rate': 0.014474177279792813, 'l2_leaf_reg': 0.08571801504247926}. Best is trial 1 with value: 0.8336079077429984.\n",
            "[I 2023-11-09 21:13:43,160] Trial 7 finished with value: 0.8099999999999999 and parameters: {'iterations': 425, 'depth': 5, 'learning_rate': 0.03241437028680669, 'l2_leaf_reg': 0.021213622921979643}. Best is trial 1 with value: 0.8336079077429984.\n",
            "[I 2023-11-09 21:13:44,435] Trial 8 finished with value: 0.7561837455830389 and parameters: {'iterations': 922, 'depth': 5, 'learning_rate': 0.23630469747407726, 'l2_leaf_reg': 0.17584849308717998}. Best is trial 1 with value: 0.8336079077429984.\n",
            "[I 2023-11-09 21:13:47,065] Trial 9 finished with value: 0.8089887640449437 and parameters: {'iterations': 644, 'depth': 8, 'learning_rate': 0.010997451414040954, 'l2_leaf_reg': 0.12890836455048235}. Best is trial 1 with value: 0.8336079077429984.\n",
            "[I 2023-11-09 21:13:47,311] Trial 10 finished with value: 0.8166666666666665 and parameters: {'iterations': 141, 'depth': 4, 'learning_rate': 0.0815269834297949, 'l2_leaf_reg': 1.1417975371011675}. Best is trial 1 with value: 0.8336079077429984.\n",
            "[I 2023-11-09 21:13:47,525] Trial 11 finished with value: 0.8247078464106844 and parameters: {'iterations': 116, 'depth': 4, 'learning_rate': 0.08494821030540826, 'l2_leaf_reg': 0.9890730525168714}. Best is trial 1 with value: 0.8336079077429984.\n",
            "[I 2023-11-09 21:13:47,750] Trial 12 finished with value: 0.8217821782178218 and parameters: {'iterations': 128, 'depth': 4, 'learning_rate': 0.08427317706507953, 'l2_leaf_reg': 0.7333344055421422}. Best is trial 1 with value: 0.8336079077429984.\n",
            "[I 2023-11-09 21:13:49,750] Trial 13 finished with value: 0.781144781144781 and parameters: {'iterations': 754, 'depth': 7, 'learning_rate': 0.07678768758549581, 'l2_leaf_reg': 4.168530627205241}. Best is trial 1 with value: 0.8336079077429984.\n",
            "[I 2023-11-09 21:13:50,236] Trial 14 finished with value: 0.8295819935691318 and parameters: {'iterations': 299, 'depth': 5, 'learning_rate': 0.010848590658379365, 'l2_leaf_reg': 0.4750261761271}. Best is trial 1 with value: 0.8336079077429984.\n",
            "[I 2023-11-09 21:13:51,005] Trial 15 finished with value: 0.8173076923076923 and parameters: {'iterations': 279, 'depth': 7, 'learning_rate': 0.011115464443104272, 'l2_leaf_reg': 0.41800581544336496}. Best is trial 1 with value: 0.8336079077429984.\n",
            "[I 2023-11-09 21:13:51,480] Trial 16 finished with value: 0.8227642276422763 and parameters: {'iterations': 283, 'depth': 5, 'learning_rate': 0.01618272575003698, 'l2_leaf_reg': 0.3012508936641946}. Best is trial 1 with value: 0.8336079077429984.\n",
            "[I 2023-11-09 21:13:52,659] Trial 17 finished with value: 0.8330578512396694 and parameters: {'iterations': 699, 'depth': 5, 'learning_rate': 0.010991728885341383, 'l2_leaf_reg': 2.4108297713522644}. Best is trial 1 with value: 0.8336079077429984.\n",
            "[I 2023-11-09 21:14:06,700] Trial 18 finished with value: 0.8227642276422763 and parameters: {'iterations': 740, 'depth': 10, 'learning_rate': 0.020337872462393755, 'l2_leaf_reg': 2.9194688758608627}. Best is trial 1 with value: 0.8336079077429984.\n",
            "[I 2023-11-09 21:14:10,940] Trial 19 finished with value: 0.8225538971807629 and parameters: {'iterations': 722, 'depth': 7, 'learning_rate': 0.018589785289849264, 'l2_leaf_reg': 9.903805025741985}. Best is trial 1 with value: 0.8336079077429984.\n",
            "[I 2023-11-09 21:14:12,277] Trial 20 finished with value: 0.8229508196721312 and parameters: {'iterations': 511, 'depth': 6, 'learning_rate': 0.010696367633366356, 'l2_leaf_reg': 2.090575632255303}. Best is trial 1 with value: 0.8336079077429984.\n",
            "[I 2023-11-09 21:14:13,423] Trial 21 finished with value: 0.8219633943427621 and parameters: {'iterations': 632, 'depth': 5, 'learning_rate': 0.013318499588098257, 'l2_leaf_reg': 0.5460085064818846}. Best is trial 1 with value: 0.8336079077429984.\n",
            "[I 2023-11-09 21:14:14,059] Trial 22 finished with value: 0.833063209076175 and parameters: {'iterations': 393, 'depth': 5, 'learning_rate': 0.010050909935112005, 'l2_leaf_reg': 0.324209711038909}. Best is trial 1 with value: 0.8336079077429984.\n",
            "[I 2023-11-09 21:14:14,896] Trial 23 finished with value: 0.8341543513957307 and parameters: {'iterations': 424, 'depth': 6, 'learning_rate': 0.010066040341154877, 'l2_leaf_reg': 0.2259988656983814}. Best is trial 23 with value: 0.8341543513957307.\n",
            "[I 2023-11-09 21:14:15,734] Trial 24 finished with value: 0.8124999999999999 and parameters: {'iterations': 412, 'depth': 6, 'learning_rate': 0.0207721100697432, 'l2_leaf_reg': 0.24286038971696658}. Best is trial 23 with value: 0.8341543513957307.\n",
            "[I 2023-11-09 21:14:16,599] Trial 25 finished with value: 0.8283828382838285 and parameters: {'iterations': 432, 'depth': 6, 'learning_rate': 0.01452294670761909, 'l2_leaf_reg': 0.2369813271850524}. Best is trial 23 with value: 0.8341543513957307.\n",
            "[I 2023-11-09 21:14:18,160] Trial 26 finished with value: 0.8237179487179487 and parameters: {'iterations': 364, 'depth': 8, 'learning_rate': 0.010031850013724105, 'l2_leaf_reg': 0.340528814971567}. Best is trial 23 with value: 0.8341543513957307.\n",
            "[I 2023-11-09 21:14:18,558] Trial 27 finished with value: 0.8197767145135566 and parameters: {'iterations': 220, 'depth': 5, 'learning_rate': 0.013341780344575721, 'l2_leaf_reg': 0.18345336647132351}. Best is trial 23 with value: 0.8341543513957307.\n",
            "[I 2023-11-09 21:14:19,192] Trial 28 finished with value: 0.8217821782178218 and parameters: {'iterations': 468, 'depth': 4, 'learning_rate': 0.019233601646418904, 'l2_leaf_reg': 0.06355929735654921}. Best is trial 23 with value: 0.8341543513957307.\n",
            "[I 2023-11-09 21:14:20,553] Trial 29 finished with value: 0.8092868988391377 and parameters: {'iterations': 573, 'depth': 6, 'learning_rate': 0.025389000036640158, 'l2_leaf_reg': 0.6238414266864731}. Best is trial 23 with value: 0.8341543513957307.\n",
            "[I 2023-11-09 21:14:23,558] Trial 30 finished with value: 0.8193548387096774 and parameters: {'iterations': 381, 'depth': 8, 'learning_rate': 0.013294791038407403, 'l2_leaf_reg': 0.14890655381304135}. Best is trial 23 with value: 0.8341543513957307.\n",
            "[I 2023-11-09 21:14:25,373] Trial 31 finished with value: 0.8313856427378966 and parameters: {'iterations': 646, 'depth': 5, 'learning_rate': 0.010451766799304017, 'l2_leaf_reg': 1.2906818869871872}. Best is trial 23 with value: 0.8341543513957307.\n",
            "[I 2023-11-09 21:14:26,603] Trial 32 finished with value: 0.8280467445742904 and parameters: {'iterations': 815, 'depth': 5, 'learning_rate': 0.01323029183374153, 'l2_leaf_reg': 0.3806775909992106}. Best is trial 23 with value: 0.8341543513957307.\n",
            "[I 2023-11-09 21:14:27,240] Trial 33 finished with value: 0.8291873963515755 and parameters: {'iterations': 478, 'depth': 4, 'learning_rate': 0.017413185514768795, 'l2_leaf_reg': 0.7778579114028259}. Best is trial 23 with value: 0.8341543513957307.\n",
            "[I 2023-11-09 21:14:28,602] Trial 34 finished with value: 0.8211920529801323 and parameters: {'iterations': 577, 'depth': 6, 'learning_rate': 0.012369553885580701, 'l2_leaf_reg': 0.07008158618598874}. Best is trial 23 with value: 0.8341543513957307.\n",
            "[I 2023-11-09 21:14:31,051] Trial 35 finished with value: 0.8106312292358804 and parameters: {'iterations': 819, 'depth': 5, 'learning_rate': 0.015827562318645978, 'l2_leaf_reg': 0.2977584788560365}. Best is trial 23 with value: 0.8341543513957307.\n",
            "[I 2023-11-09 21:14:35,485] Trial 36 finished with value: 0.820097244732577 and parameters: {'iterations': 690, 'depth': 7, 'learning_rate': 0.010087912572492776, 'l2_leaf_reg': 0.04567594840719573}. Best is trial 23 with value: 0.8341543513957307.\n",
            "[I 2023-11-09 21:14:39,131] Trial 37 finished with value: 0.8112582781456954 and parameters: {'iterations': 510, 'depth': 6, 'learning_rate': 0.0233245677906044, 'l2_leaf_reg': 0.13138782431489499}. Best is trial 23 with value: 0.8341543513957307.\n",
            "[I 2023-11-09 21:14:40,185] Trial 38 finished with value: 0.827018121911038 and parameters: {'iterations': 343, 'depth': 5, 'learning_rate': 0.015254555581919828, 'l2_leaf_reg': 0.20755841072437625}. Best is trial 23 with value: 0.8341543513957307.\n",
            "[I 2023-11-09 21:14:41,125] Trial 39 finished with value: 0.8078817733990147 and parameters: {'iterations': 203, 'depth': 6, 'learning_rate': 0.03380280623060853, 'l2_leaf_reg': 0.10691449353797482}. Best is trial 23 with value: 0.8341543513957307.\n",
            "[I 2023-11-09 21:14:42,382] Trial 40 finished with value: 0.8291873963515755 and parameters: {'iterations': 599, 'depth': 4, 'learning_rate': 0.012540351835588503, 'l2_leaf_reg': 0.4740683604344805}. Best is trial 23 with value: 0.8341543513957307.\n",
            "[I 2023-11-09 21:14:43,896] Trial 41 finished with value: 0.8297520661157025 and parameters: {'iterations': 651, 'depth': 5, 'learning_rate': 0.012170846476946722, 'l2_leaf_reg': 1.3697865342377729}. Best is trial 23 with value: 0.8341543513957307.\n",
            "[I 2023-11-09 21:14:45,078] Trial 42 finished with value: 0.8280467445742904 and parameters: {'iterations': 804, 'depth': 5, 'learning_rate': 0.010334989040644295, 'l2_leaf_reg': 1.63647301169078}. Best is trial 23 with value: 0.8341543513957307.\n",
            "[I 2023-11-09 21:14:46,204] Trial 43 finished with value: 0.8205980066445181 and parameters: {'iterations': 671, 'depth': 5, 'learning_rate': 0.01724317193790985, 'l2_leaf_reg': 0.8762693318751146}. Best is trial 23 with value: 0.8341543513957307.\n",
            "[I 2023-11-09 21:14:46,906] Trial 44 finished with value: 0.8252911813643927 and parameters: {'iterations': 550, 'depth': 4, 'learning_rate': 0.014521670717052711, 'l2_leaf_reg': 0.6135246214508338}. Best is trial 23 with value: 0.8341543513957307.\n",
            "[I 2023-11-09 21:14:47,824] Trial 45 finished with value: 0.8289473684210527 and parameters: {'iterations': 464, 'depth': 6, 'learning_rate': 0.011674907884190159, 'l2_leaf_reg': 0.9700227603645485}. Best is trial 23 with value: 0.8341543513957307.\n",
            "[I 2023-11-09 21:14:48,624] Trial 46 finished with value: 0.8369028006589787 and parameters: {'iterations': 527, 'depth': 5, 'learning_rate': 0.01000285893710655, 'l2_leaf_reg': 0.17963640432367475}. Best is trial 46 with value: 0.8369028006589787.\n",
            "[I 2023-11-09 21:14:49,305] Trial 47 finished with value: 0.8303130148270181 and parameters: {'iterations': 531, 'depth': 4, 'learning_rate': 0.01562563391358489, 'l2_leaf_reg': 0.16041436607010243}. Best is trial 46 with value: 0.8369028006589787.\n",
            "[I 2023-11-09 21:14:50,668] Trial 48 finished with value: 0.8284789644012945 and parameters: {'iterations': 382, 'depth': 5, 'learning_rate': 0.011977426390944495, 'l2_leaf_reg': 0.27281561372907637}. Best is trial 46 with value: 0.8369028006589787.\n",
            "[I 2023-11-09 21:14:53,071] Trial 49 finished with value: 0.8092868988391377 and parameters: {'iterations': 609, 'depth': 6, 'learning_rate': 0.02203463802375226, 'l2_leaf_reg': 0.10909373106589626}. Best is trial 46 with value: 0.8369028006589787.\n",
            "[I 2023-11-09 21:14:53,705] Trial 50 finished with value: 0.8311258278145696 and parameters: {'iterations': 447, 'depth': 4, 'learning_rate': 0.017204092895672717, 'l2_leaf_reg': 0.3817890483298142}. Best is trial 46 with value: 0.8369028006589787.\n",
            "[I 2023-11-09 21:14:54,742] Trial 51 finished with value: 0.8316831683168316 and parameters: {'iterations': 702, 'depth': 5, 'learning_rate': 0.010175218878156433, 'l2_leaf_reg': 0.19424859344813888}. Best is trial 46 with value: 0.8369028006589787.\n",
            "[I 2023-11-09 21:14:56,013] Trial 52 finished with value: 0.8258706467661692 and parameters: {'iterations': 863, 'depth': 5, 'learning_rate': 0.0119655991821978, 'l2_leaf_reg': 0.17383307142877497}. Best is trial 46 with value: 0.8369028006589787.\n",
            "[I 2023-11-09 21:14:57,438] Trial 53 finished with value: 0.8252911813643927 and parameters: {'iterations': 991, 'depth': 5, 'learning_rate': 0.010263620329820993, 'l2_leaf_reg': 0.22355945733991014}. Best is trial 46 with value: 0.8369028006589787.\n",
            "[I 2023-11-09 21:14:58,496] Trial 54 finished with value: 0.8260869565217391 and parameters: {'iterations': 720, 'depth': 5, 'learning_rate': 0.014169174806179142, 'l2_leaf_reg': 0.4841029682591379}. Best is trial 46 with value: 0.8369028006589787.\n",
            "[I 2023-11-09 21:14:59,901] Trial 55 finished with value: 0.8189233278955954 and parameters: {'iterations': 489, 'depth': 7, 'learning_rate': 0.011623951747456252, 'l2_leaf_reg': 0.27630532604911445}. Best is trial 46 with value: 0.8369028006589787.\n",
            "[I 2023-11-09 21:15:00,549] Trial 56 finished with value: 0.820097244732577 and parameters: {'iterations': 311, 'depth': 6, 'learning_rate': 0.014269303744979383, 'l2_leaf_reg': 0.35001523333087275}. Best is trial 46 with value: 0.8369028006589787.\n",
            "[I 2023-11-09 21:15:08,617] Trial 57 finished with value: 0.8146964856230031 and parameters: {'iterations': 417, 'depth': 10, 'learning_rate': 0.011171590960636725, 'l2_leaf_reg': 0.21241140202428907}. Best is trial 46 with value: 0.8369028006589787.\n",
            "[I 2023-11-09 21:15:09,994] Trial 58 finished with value: 0.8272425249169435 and parameters: {'iterations': 552, 'depth': 4, 'learning_rate': 0.018821425518915906, 'l2_leaf_reg': 0.1055658448368696}. Best is trial 46 with value: 0.8369028006589787.\n",
            "[I 2023-11-09 21:15:13,418] Trial 59 finished with value: 0.8217821782178218 and parameters: {'iterations': 777, 'depth': 6, 'learning_rate': 0.010140099687165059, 'l2_leaf_reg': 0.15071095383874958}. Best is trial 46 with value: 0.8369028006589787.\n",
            "[I 2023-11-09 21:15:15,246] Trial 60 finished with value: 0.8219633943427621 and parameters: {'iterations': 688, 'depth': 5, 'learning_rate': 0.012823976053706955, 'l2_leaf_reg': 0.08607562121254532}. Best is trial 46 with value: 0.8369028006589787.\n",
            "[I 2023-11-09 21:15:16,818] Trial 61 finished with value: 0.8272425249169435 and parameters: {'iterations': 646, 'depth': 5, 'learning_rate': 0.011206939729273205, 'l2_leaf_reg': 0.6714933799570876}. Best is trial 46 with value: 0.8369028006589787.\n",
            "[I 2023-11-09 21:15:18,985] Trial 62 finished with value: 0.8243021346469623 and parameters: {'iterations': 610, 'depth': 5, 'learning_rate': 0.010043870063742962, 'l2_leaf_reg': 1.1866699455479526}. Best is trial 46 with value: 0.8369028006589787.\n",
            "[I 2023-11-09 21:15:21,274] Trial 63 finished with value: 0.8178807947019866 and parameters: {'iterations': 714, 'depth': 5, 'learning_rate': 0.013904042170521555, 'l2_leaf_reg': 0.5019960257494027}. Best is trial 46 with value: 0.8369028006589787.\n",
            "[I 2023-11-09 21:15:22,315] Trial 64 finished with value: 0.827814569536424 and parameters: {'iterations': 751, 'depth': 4, 'learning_rate': 0.0111058857443566, 'l2_leaf_reg': 0.1936433431511207}. Best is trial 46 with value: 0.8369028006589787.\n",
            "[I 2023-11-09 21:15:23,422] Trial 65 finished with value: 0.8223684210526315 and parameters: {'iterations': 527, 'depth': 6, 'learning_rate': 0.012679806983998797, 'l2_leaf_reg': 0.2926835498128627}. Best is trial 46 with value: 0.8369028006589787.\n",
            "[I 2023-11-09 21:15:24,436] Trial 66 finished with value: 0.8316831683168316 and parameters: {'iterations': 624, 'depth': 5, 'learning_rate': 0.01122974773535443, 'l2_leaf_reg': 2.9373534022721226}. Best is trial 46 with value: 0.8369028006589787.\n",
            "[I 2023-11-09 21:15:25,213] Trial 67 finished with value: 0.8289473684210527 and parameters: {'iterations': 398, 'depth': 6, 'learning_rate': 0.015880488951434037, 'l2_leaf_reg': 3.662988827822897}. Best is trial 46 with value: 0.8369028006589787.\n",
            "[I 2023-11-09 21:15:25,942] Trial 68 finished with value: 0.8316831683168316 and parameters: {'iterations': 574, 'depth': 4, 'learning_rate': 0.01316660684704607, 'l2_leaf_reg': 2.2100274381525167}. Best is trial 46 with value: 0.8369028006589787.\n",
            "[I 2023-11-09 21:15:26,503] Trial 69 finished with value: 0.8330578512396694 and parameters: {'iterations': 336, 'depth': 5, 'learning_rate': 0.014981668426800291, 'l2_leaf_reg': 5.018860441239703}. Best is trial 46 with value: 0.8369028006589787.\n",
            "[I 2023-11-09 21:15:26,915] Trial 70 finished with value: 0.8355263157894737 and parameters: {'iterations': 230, 'depth': 5, 'learning_rate': 0.014623726149978682, 'l2_leaf_reg': 6.102735125049023}. Best is trial 46 with value: 0.8369028006589787.\n",
            "[I 2023-11-09 21:15:27,333] Trial 71 finished with value: 0.8265802269043759 and parameters: {'iterations': 238, 'depth': 5, 'learning_rate': 0.014604090881382733, 'l2_leaf_reg': 5.537873496416784}. Best is trial 46 with value: 0.8369028006589787.\n",
            "[I 2023-11-09 21:15:27,631] Trial 72 finished with value: 0.813664596273292 and parameters: {'iterations': 150, 'depth': 5, 'learning_rate': 0.011868279918345685, 'l2_leaf_reg': 5.959970976777863}. Best is trial 46 with value: 0.8369028006589787.\n",
            "[I 2023-11-09 21:15:30,068] Trial 73 finished with value: 0.8129032258064516 and parameters: {'iterations': 346, 'depth': 9, 'learning_rate': 0.01690198193487379, 'l2_leaf_reg': 0.4069841876578989}. Best is trial 46 with value: 0.8369028006589787.\n",
            "[I 2023-11-09 21:15:30,639] Trial 74 finished with value: 0.8288000000000001 and parameters: {'iterations': 315, 'depth': 5, 'learning_rate': 0.010061487747094021, 'l2_leaf_reg': 6.391519314561481}. Best is trial 46 with value: 0.8369028006589787.\n",
            "[I 2023-11-09 21:15:31,098] Trial 75 finished with value: 0.8276972624798711 and parameters: {'iterations': 263, 'depth': 5, 'learning_rate': 0.013287889747764165, 'l2_leaf_reg': 0.25307710894166535}. Best is trial 46 with value: 0.8369028006589787.\n",
            "[I 2023-11-09 21:15:32,716] Trial 76 finished with value: 0.8243021346469623 and parameters: {'iterations': 441, 'depth': 6, 'learning_rate': 0.014931191507213355, 'l2_leaf_reg': 0.32441195673949286}. Best is trial 46 with value: 0.8369028006589787.\n",
            "[I 2023-11-09 21:15:34,553] Trial 77 finished with value: 0.8256 and parameters: {'iterations': 366, 'depth': 4, 'learning_rate': 0.011134590587168416, 'l2_leaf_reg': 9.204881060240336}. Best is trial 46 with value: 0.8369028006589787.\n",
            "[I 2023-11-09 21:15:35,759] Trial 78 finished with value: 0.825242718446602 and parameters: {'iterations': 184, 'depth': 5, 'learning_rate': 0.01940191371316626, 'l2_leaf_reg': 0.17870173843709125}. Best is trial 46 with value: 0.8369028006589787.\n",
            "[I 2023-11-09 21:15:37,379] Trial 79 finished with value: 0.8314238952536824 and parameters: {'iterations': 280, 'depth': 6, 'learning_rate': 0.012284582802265064, 'l2_leaf_reg': 4.437255329980062}. Best is trial 46 with value: 0.8369028006589787.\n",
            "[I 2023-11-09 21:15:38,071] Trial 80 finished with value: 0.8263665594855306 and parameters: {'iterations': 257, 'depth': 5, 'learning_rate': 0.013479595625884622, 'l2_leaf_reg': 0.13327166007238833}. Best is trial 46 with value: 0.8369028006589787.\n",
            "[I 2023-11-09 21:15:41,708] Trial 81 finished with value: 0.8291873963515755 and parameters: {'iterations': 674, 'depth': 5, 'learning_rate': 0.011142981762979159, 'l2_leaf_reg': 2.871166374204819}. Best is trial 46 with value: 0.8369028006589787.\n",
            "[I 2023-11-09 21:15:45,952] Trial 82 finished with value: 0.8217821782178218 and parameters: {'iterations': 597, 'depth': 5, 'learning_rate': 0.010997806446289993, 'l2_leaf_reg': 0.23591155281678255}. Best is trial 46 with value: 0.8369028006589787.\n",
            "[I 2023-11-09 21:15:50,597] Trial 83 finished with value: 0.8305647840531561 and parameters: {'iterations': 490, 'depth': 5, 'learning_rate': 0.012098337587824928, 'l2_leaf_reg': 2.9862748701433595}. Best is trial 46 with value: 0.8369028006589787.\n",
            "[I 2023-11-09 21:15:53,385] Trial 84 finished with value: 0.8184818481848185 and parameters: {'iterations': 625, 'depth': 5, 'learning_rate': 0.01069873396389681, 'l2_leaf_reg': 1.5768034956995096}. Best is trial 46 with value: 0.8369028006589787.\n",
            "[I 2023-11-09 21:15:55,321] Trial 85 finished with value: 0.8344370860927153 and parameters: {'iterations': 398, 'depth': 5, 'learning_rate': 0.015552052804307805, 'l2_leaf_reg': 0.4205368001784584}. Best is trial 46 with value: 0.8369028006589787.\n",
            "[I 2023-11-09 21:15:58,139] Trial 86 finished with value: 0.8264462809917356 and parameters: {'iterations': 401, 'depth': 6, 'learning_rate': 0.015525679311560977, 'l2_leaf_reg': 0.3464701645788537}. Best is trial 46 with value: 0.8369028006589787.\n",
            "[I 2023-11-09 21:16:02,201] Trial 87 finished with value: 0.8183306055646481 and parameters: {'iterations': 453, 'depth': 7, 'learning_rate': 0.01830400214187374, 'l2_leaf_reg': 0.5600121211104233}. Best is trial 46 with value: 0.8369028006589787.\n",
            "[I 2023-11-09 21:16:04,713] Trial 88 finished with value: 0.8295081967213115 and parameters: {'iterations': 338, 'depth': 4, 'learning_rate': 0.01658490926765555, 'l2_leaf_reg': 0.40380965214904013}. Best is trial 46 with value: 0.8369028006589787.\n",
            "[I 2023-11-09 21:16:06,720] Trial 89 finished with value: 0.8291873963515755 and parameters: {'iterations': 960, 'depth': 4, 'learning_rate': 0.012749035628639724, 'l2_leaf_reg': 0.1988755567931627}. Best is trial 46 with value: 0.8369028006589787.\n",
            "[I 2023-11-09 21:16:07,801] Trial 90 finished with value: 0.827018121911038 and parameters: {'iterations': 422, 'depth': 5, 'learning_rate': 0.013835406323700958, 'l2_leaf_reg': 0.8407320703576439}. Best is trial 46 with value: 0.8369028006589787.\n",
            "[I 2023-11-09 21:16:09,485] Trial 91 finished with value: 0.8264462809917356 and parameters: {'iterations': 547, 'depth': 5, 'learning_rate': 0.011646226646433246, 'l2_leaf_reg': 0.2724141758881564}. Best is trial 46 with value: 0.8369028006589787.\n",
            "[I 2023-11-09 21:16:10,857] Trial 92 finished with value: 0.8281505728314239 and parameters: {'iterations': 513, 'depth': 5, 'learning_rate': 0.010905966490702003, 'l2_leaf_reg': 0.22491309980559973}. Best is trial 46 with value: 0.8369028006589787.\n",
            "[I 2023-11-09 21:16:12,044] Trial 93 finished with value: 0.8217821782178218 and parameters: {'iterations': 374, 'depth': 5, 'learning_rate': 0.014795731474364535, 'l2_leaf_reg': 0.7003872337739786}. Best is trial 46 with value: 0.8369028006589787.\n",
            "[I 2023-11-09 21:16:14,242] Trial 94 finished with value: 0.8239202657807309 and parameters: {'iterations': 778, 'depth': 5, 'learning_rate': 0.01000678306987704, 'l2_leaf_reg': 0.1634236913483551}. Best is trial 46 with value: 0.8369028006589787.\n",
            "[I 2023-11-09 21:16:16,466] Trial 95 finished with value: 0.8264462809917356 and parameters: {'iterations': 702, 'depth': 5, 'learning_rate': 0.012456418712381642, 'l2_leaf_reg': 0.3418478400974533}. Best is trial 46 with value: 0.8369028006589787.\n",
            "[I 2023-11-09 21:16:18,679] Trial 96 finished with value: 0.8210180623973728 and parameters: {'iterations': 475, 'depth': 5, 'learning_rate': 0.01148036955690442, 'l2_leaf_reg': 0.45054885259017524}. Best is trial 46 with value: 0.8369028006589787.\n",
            "[I 2023-11-09 21:16:20,146] Trial 97 finished with value: 0.8195121951219512 and parameters: {'iterations': 334, 'depth': 6, 'learning_rate': 0.013926421789000599, 'l2_leaf_reg': 0.2531384757095377}. Best is trial 46 with value: 0.8369028006589787.\n",
            "[I 2023-11-09 21:16:22,144] Trial 98 finished with value: 0.8243021346469623 and parameters: {'iterations': 668, 'depth': 5, 'learning_rate': 0.010547920269773012, 'l2_leaf_reg': 1.0349508096134359}. Best is trial 46 with value: 0.8369028006589787.\n",
            "[I 2023-11-09 21:16:24,431] Trial 99 finished with value: 0.8250825082508251 and parameters: {'iterations': 588, 'depth': 6, 'learning_rate': 0.0160100069957224, 'l2_leaf_reg': 0.14246149051142748}. Best is trial 46 with value: 0.8369028006589787.\n"
          ]
        },
        {
          "name": "stdout",
          "output_type": "stream",
          "text": [
            "Best Hyperparameters: {'iterations': 527, 'depth': 5, 'learning_rate': 0.01000285893710655, 'l2_leaf_reg': 0.17963640432367475}\n",
            "Best f1-score: 0.8369028006589787\n"
          ]
        }
      ],
      "source": [
        "# Define an objective function for Optuna\n",
        "def objective(trial):\n",
        "    # Load your dataset and split it into training and validation sets\n",
        "    # X_train, y_train, X_val, y_val = ...\n",
        "\n",
        "    # Define the hyperparameters to be optimized\n",
        "    params = {\n",
        "        'iterations': trial.suggest_int('iterations', 100, 1000),\n",
        "        'depth': trial.suggest_int('depth', 4, 10),\n",
        "        'learning_rate': trial.suggest_loguniform('learning_rate', 0.01, 0.3),\n",
        "        'l2_leaf_reg': trial.suggest_loguniform('l2_leaf_reg', 1e-2, 10),\n",
        "    }\n",
        "\n",
        "    # Create and train the CatBoost model\n",
        "    model = CatBoostClassifier(**params, verbose=0)\n",
        "    model.fit(X_train, y_train)\n",
        "\n",
        "    # Make predictions on the validation set\n",
        "    y_pred = model.predict(X_test)\n",
        "\n",
        "    # Calculate the accuracy as the metric to optimize\n",
        "    accuracy = f1_score(y_test, y_pred)\n",
        "\n",
        "    return accuracy\n",
        "\n",
        "if __name__ == \"__main__\":\n",
        "    # Load your dataset and split it into training and validation sets\n",
        "    # X_train, y_train, X_val, y_val = ...\n",
        "\n",
        "    # Create an Optuna study and optimize the objective function\n",
        "    study = optuna.create_study(direction='maximize')\n",
        "    study.optimize(objective, n_trials=100)  # You can adjust the number of trials\n",
        "\n",
        "    # Print the best hyperparameters and their corresponding accuracy\n",
        "    best_params_catboost = study.best_params\n",
        "    best_f1_catboost = study.best_value\n",
        "    print(\"Best Hyperparameters:\", best_params_catboost)\n",
        "    print(\"Best f1-score:\", best_f1_catboost)\n",
        "\n",
        "    # Train the final model with the best hyperparameters on the entire training set\n",
        "    final_model = CatBoostClassifier(**best_params_catboost, verbose=0)\n",
        "    #final_model.fit(X_train, y_train)\n"
      ]
    },
    {
      "cell_type": "code",
      "execution_count": null,
      "metadata": {
        "colab": {
          "base_uri": "https://localhost:8080/"
        },
        "id": "kRnVL-lO5aMb",
        "outputId": "ff5e876f-ca17-4396-bca5-af271481f17c"
      },
      "outputs": [
        {
          "name": "stderr",
          "output_type": "stream",
          "text": [
            "[I 2023-11-09 21:16:24,470] A new study created in memory with name: no-name-c68fa0b0-cffa-43a4-8c14-e01a0fa40484\n",
            "[I 2023-11-09 21:16:24,909] Trial 0 finished with value: 0.8341708542713568 and parameters: {'n_estimators': 485, 'max_depth': 3, 'learning_rate': 0.01102132715996339, 'gamma': 3.909098935899288e-05}. Best is trial 0 with value: 0.8341708542713568.\n",
            "[I 2023-11-09 21:16:25,179] Trial 1 finished with value: 0.7827586206896552 and parameters: {'n_estimators': 221, 'max_depth': 4, 'learning_rate': 0.14227225152107528, 'gamma': 0.07966930746252825}. Best is trial 0 with value: 0.8341708542713568.\n",
            "[I 2023-11-09 21:16:25,679] Trial 2 finished with value: 0.7783595113438045 and parameters: {'n_estimators': 400, 'max_depth': 6, 'learning_rate': 0.16113273077032106, 'gamma': 0.07620584361774548}. Best is trial 0 with value: 0.8341708542713568.\n",
            "[I 2023-11-09 21:16:26,253] Trial 3 finished with value: 0.8048359240069085 and parameters: {'n_estimators': 314, 'max_depth': 8, 'learning_rate': 0.1033369499788774, 'gamma': 0.19575141808448945}. Best is trial 0 with value: 0.8341708542713568.\n",
            "[I 2023-11-09 21:16:26,519] Trial 4 finished with value: 0.7729636048526863 and parameters: {'n_estimators': 265, 'max_depth': 4, 'learning_rate': 0.11776744379927492, 'gamma': 0.001344966529384714}. Best is trial 0 with value: 0.8341708542713568.\n",
            "[I 2023-11-09 21:16:26,965] Trial 5 finished with value: 0.7937608318890814 and parameters: {'n_estimators': 430, 'max_depth': 9, 'learning_rate': 0.024109282080424444, 'gamma': 0.10783580355711954}. Best is trial 0 with value: 0.8341708542713568.\n",
            "[I 2023-11-09 21:16:27,109] Trial 6 finished with value: 0.7791304347826087 and parameters: {'n_estimators': 245, 'max_depth': 5, 'learning_rate': 0.06749909847634959, 'gamma': 5.352145111866644e-05}. Best is trial 0 with value: 0.8341708542713568.\n",
            "[I 2023-11-09 21:16:27,582] Trial 7 finished with value: 0.74822695035461 and parameters: {'n_estimators': 983, 'max_depth': 5, 'learning_rate': 0.24561116634247046, 'gamma': 8.842524604085419e-05}. Best is trial 0 with value: 0.8341708542713568.\n",
            "[I 2023-11-09 21:16:27,758] Trial 8 finished with value: 0.8068965517241379 and parameters: {'n_estimators': 621, 'max_depth': 7, 'learning_rate': 0.2101333922387032, 'gamma': 0.5467783231941037}. Best is trial 0 with value: 0.8341708542713568.\n",
            "[I 2023-11-09 21:16:28,090] Trial 9 finished with value: 0.7781690140845071 and parameters: {'n_estimators': 964, 'max_depth': 10, 'learning_rate': 0.12140692523907022, 'gamma': 0.02477988242313843}. Best is trial 0 with value: 0.8341708542713568.\n",
            "[I 2023-11-09 21:16:28,355] Trial 10 finished with value: 0.8229342327150084 and parameters: {'n_estimators': 691, 'max_depth': 3, 'learning_rate': 0.011440447341008242, 'gamma': 1.835239529883762e-05}. Best is trial 0 with value: 0.8341708542713568.\n",
            "[I 2023-11-09 21:16:28,624] Trial 11 finished with value: 0.8257191201353639 and parameters: {'n_estimators': 673, 'max_depth': 3, 'learning_rate': 0.010849105289488658, 'gamma': 1.598214469412021e-05}. Best is trial 0 with value: 0.8341708542713568.\n",
            "[I 2023-11-09 21:16:29,957] Trial 12 finished with value: 0.8209459459459459 and parameters: {'n_estimators': 763, 'max_depth': 3, 'learning_rate': 0.010523397414078496, 'gamma': 1.0682563145301716e-05}. Best is trial 0 with value: 0.8341708542713568.\n",
            "[I 2023-11-09 21:16:31,623] Trial 13 finished with value: 0.8237288135593221 and parameters: {'n_estimators': 500, 'max_depth': 3, 'learning_rate': 0.021008121566858988, 'gamma': 0.0003251601511985293}. Best is trial 0 with value: 0.8341708542713568.\n",
            "[I 2023-11-09 21:16:32,304] Trial 14 finished with value: 0.7735191637630663 and parameters: {'n_estimators': 794, 'max_depth': 5, 'learning_rate': 0.020162663322903628, 'gamma': 0.0002702237956398583}. Best is trial 0 with value: 0.8341708542713568.\n",
            "[I 2023-11-09 21:16:32,400] Trial 15 finished with value: 0.8296795952782462 and parameters: {'n_estimators': 111, 'max_depth': 4, 'learning_rate': 0.03832425556209908, 'gamma': 2.964139692402839e-05}. Best is trial 0 with value: 0.8341708542713568.\n",
            "[I 2023-11-09 21:16:32,537] Trial 16 finished with value: 0.8061224489795918 and parameters: {'n_estimators': 112, 'max_depth': 6, 'learning_rate': 0.0380559583081972, 'gamma': 0.0022952738371570043}. Best is trial 0 with value: 0.8341708542713568.\n",
            "[I 2023-11-09 21:16:32,642] Trial 17 finished with value: 0.8215488215488215 and parameters: {'n_estimators': 128, 'max_depth': 4, 'learning_rate': 0.04469405334808132, 'gamma': 6.12078703399793e-05}. Best is trial 0 with value: 0.8341708542713568.\n",
            "[I 2023-11-09 21:16:33,152] Trial 18 finished with value: 0.7743055555555556 and parameters: {'n_estimators': 532, 'max_depth': 7, 'learning_rate': 0.06558168420632782, 'gamma': 0.0005725509521354174}. Best is trial 0 with value: 0.8341708542713568.\n",
            "[I 2023-11-09 21:16:33,358] Trial 19 finished with value: 0.8074324324324326 and parameters: {'n_estimators': 380, 'max_depth': 4, 'learning_rate': 0.033764031738162434, 'gamma': 0.010962041794674249}. Best is trial 0 with value: 0.8341708542713568.\n",
            "[I 2023-11-09 21:16:33,878] Trial 20 finished with value: 0.789655172413793 and parameters: {'n_estimators': 874, 'max_depth': 5, 'learning_rate': 0.015555330009645627, 'gamma': 0.00013467522166673885}. Best is trial 0 with value: 0.8341708542713568.\n",
            "[I 2023-11-09 21:16:34,129] Trial 21 finished with value: 0.8215488215488215 and parameters: {'n_estimators': 622, 'max_depth': 3, 'learning_rate': 0.014672776187354582, 'gamma': 2.8712939125995362e-05}. Best is trial 0 with value: 0.8341708542713568.\n",
            "[I 2023-11-09 21:16:34,384] Trial 22 finished with value: 0.8257191201353639 and parameters: {'n_estimators': 633, 'max_depth': 3, 'learning_rate': 0.010604233266598538, 'gamma': 1.116888285728493e-05}. Best is trial 0 with value: 0.8341708542713568.\n",
            "[I 2023-11-09 21:16:34,632] Trial 23 finished with value: 0.7820069204152249 and parameters: {'n_estimators': 488, 'max_depth': 4, 'learning_rate': 0.029103453035624324, 'gamma': 2.74655796499521e-05}. Best is trial 0 with value: 0.8341708542713568.\n",
            "[I 2023-11-09 21:16:34,958] Trial 24 finished with value: 0.8203389830508474 and parameters: {'n_estimators': 809, 'max_depth': 3, 'learning_rate': 0.015410351155638024, 'gamma': 4.147913244199135e-05}. Best is trial 0 with value: 0.8341708542713568.\n",
            "[I 2023-11-09 21:16:35,312] Trial 25 finished with value: 0.8 and parameters: {'n_estimators': 708, 'max_depth': 4, 'learning_rate': 0.027561533561722733, 'gamma': 0.0001235201486005333}. Best is trial 0 with value: 0.8341708542713568.\n",
            "[I 2023-11-09 21:16:35,765] Trial 26 finished with value: 0.7895652173913044 and parameters: {'n_estimators': 578, 'max_depth': 6, 'learning_rate': 0.018388957650340782, 'gamma': 1.1151826455298041e-05}. Best is trial 0 with value: 0.8341708542713568.\n",
            "[I 2023-11-09 21:16:36,127] Trial 27 finished with value: 0.8249158249158249 and parameters: {'n_estimators': 893, 'max_depth': 3, 'learning_rate': 0.012792626620343266, 'gamma': 2.992779702777365e-05}. Best is trial 0 with value: 0.8341708542713568.\n",
            "[I 2023-11-09 21:16:36,274] Trial 28 finished with value: 0.8161888701517707 and parameters: {'n_estimators': 174, 'max_depth': 5, 'learning_rate': 0.01829983422248099, 'gamma': 0.00013510814963988663}. Best is trial 0 with value: 0.8341708542713568.\n",
            "[I 2023-11-09 21:16:36,468] Trial 29 finished with value: 0.8277027027027027 and parameters: {'n_estimators': 342, 'max_depth': 4, 'learning_rate': 0.01007784110473941, 'gamma': 6.672454200887018e-05}. Best is trial 0 with value: 0.8341708542713568.\n",
            "[I 2023-11-09 21:16:36,636] Trial 30 finished with value: 0.8291032148900169 and parameters: {'n_estimators': 284, 'max_depth': 4, 'learning_rate': 0.013894384856875804, 'gamma': 0.000961225287721934}. Best is trial 0 with value: 0.8341708542713568.\n",
            "[I 2023-11-09 21:16:36,830] Trial 31 finished with value: 0.833052276559865 and parameters: {'n_estimators': 331, 'max_depth': 4, 'learning_rate': 0.013490115741034333, 'gamma': 0.0006705331519463825}. Best is trial 0 with value: 0.8341708542713568.\n",
            "[I 2023-11-09 21:16:37,011] Trial 32 finished with value: 0.8189509306260575 and parameters: {'n_estimators': 198, 'max_depth': 5, 'learning_rate': 0.015075004430528872, 'gamma': 0.0008175301333429712}. Best is trial 0 with value: 0.8341708542713568.\n",
            "[I 2023-11-09 21:16:37,182] Trial 33 finished with value: 0.8336134453781513 and parameters: {'n_estimators': 298, 'max_depth': 4, 'learning_rate': 0.013278742519523597, 'gamma': 0.004649214086159166}. Best is trial 0 with value: 0.8341708542713568.\n",
            "[I 2023-11-09 21:16:37,545] Trial 34 finished with value: 0.7944732297063903 and parameters: {'n_estimators': 454, 'max_depth': 6, 'learning_rate': 0.022464677678894544, 'gamma': 0.005209882823670982}. Best is trial 0 with value: 0.8341708542713568.\n",
            "[I 2023-11-09 21:16:37,734] Trial 35 finished with value: 0.8282828282828283 and parameters: {'n_estimators': 350, 'max_depth': 4, 'learning_rate': 0.017606424078484045, 'gamma': 0.0018747222012242184}. Best is trial 0 with value: 0.8341708542713568.\n",
            "[I 2023-11-09 21:16:38,252] Trial 36 finished with value: 0.7909407665505226 and parameters: {'n_estimators': 415, 'max_depth': 8, 'learning_rate': 0.013121983594528267, 'gamma': 0.0039160919068918255}. Best is trial 0 with value: 0.8341708542713568.\n",
            "[I 2023-11-09 21:16:38,478] Trial 37 finished with value: 0.8027210884353742 and parameters: {'n_estimators': 287, 'max_depth': 5, 'learning_rate': 0.023894793721943277, 'gamma': 0.00023451018859313062}. Best is trial 0 with value: 0.8341708542713568.\n",
            "[I 2023-11-09 21:16:38,651] Trial 38 finished with value: 0.8195615514333896 and parameters: {'n_estimators': 227, 'max_depth': 5, 'learning_rate': 0.012745664111438907, 'gamma': 0.0006528603431869653}. Best is trial 0 with value: 0.8341708542713568.\n",
            "[I 2023-11-09 21:16:38,848] Trial 39 finished with value: 0.7986230636833046 and parameters: {'n_estimators': 159, 'max_depth': 7, 'learning_rate': 0.026771183993027584, 'gamma': 0.001591049681365118}. Best is trial 0 with value: 0.8341708542713568.\n",
            "[I 2023-11-09 21:16:39,080] Trial 40 finished with value: 0.825503355704698 and parameters: {'n_estimators': 380, 'max_depth': 4, 'learning_rate': 0.01736239663890398, 'gamma': 0.0003711841152325108}. Best is trial 0 with value: 0.8341708542713568.\n",
            "[I 2023-11-09 21:16:39,248] Trial 41 finished with value: 0.833052276559865 and parameters: {'n_estimators': 282, 'max_depth': 4, 'learning_rate': 0.01266559328495098, 'gamma': 0.0055814232847718765}. Best is trial 0 with value: 0.8341708542713568.\n",
            "[I 2023-11-09 21:16:39,429] Trial 42 finished with value: 0.8296795952782462 and parameters: {'n_estimators': 319, 'max_depth': 4, 'learning_rate': 0.013021533535268394, 'gamma': 0.01859179717737449}. Best is trial 0 with value: 0.8341708542713568.\n",
            "[I 2023-11-09 21:16:39,567] Trial 43 finished with value: 0.8322368421052632 and parameters: {'n_estimators': 256, 'max_depth': 3, 'learning_rate': 0.011830728356311274, 'gamma': 0.004936773159639317}. Best is trial 0 with value: 0.8341708542713568.\n",
            "[I 2023-11-09 21:16:39,722] Trial 44 finished with value: 0.8322368421052632 and parameters: {'n_estimators': 247, 'max_depth': 3, 'learning_rate': 0.011763239043263006, 'gamma': 0.007223724715019391}. Best is trial 0 with value: 0.8341708542713568.\n",
            "[I 2023-11-09 21:16:39,933] Trial 45 finished with value: 0.8327759197324415 and parameters: {'n_estimators': 450, 'max_depth': 3, 'learning_rate': 0.010258791733145143, 'gamma': 0.0024126147421733323}. Best is trial 0 with value: 0.8341708542713568.\n",
            "[I 2023-11-09 21:16:40,703] Trial 46 finished with value: 0.8056042031523643 and parameters: {'n_estimators': 452, 'max_depth': 10, 'learning_rate': 0.0106233359648783, 'gamma': 0.002515966840924168}. Best is trial 0 with value: 0.8341708542713568.\n",
            "[I 2023-11-09 21:16:40,940] Trial 47 finished with value: 0.8322147651006712 and parameters: {'n_estimators': 545, 'max_depth': 3, 'learning_rate': 0.010033102024521035, 'gamma': 0.0029271031942365586}. Best is trial 0 with value: 0.8341708542713568.\n",
            "[I 2023-11-09 21:16:41,162] Trial 48 finished with value: 0.8257191201353639 and parameters: {'n_estimators': 483, 'max_depth': 3, 'learning_rate': 0.02034375618650977, 'gamma': 0.0017245265910565872}. Best is trial 0 with value: 0.8341708542713568.\n",
            "[I 2023-11-09 21:16:41,792] Trial 49 finished with value: 0.802065404475043 and parameters: {'n_estimators': 410, 'max_depth': 9, 'learning_rate': 0.015861385238743853, 'gamma': 0.0010539811765376671}. Best is trial 0 with value: 0.8341708542713568.\n",
            "[I 2023-11-09 21:16:42,150] Trial 50 finished with value: 0.8316498316498316 and parameters: {'n_estimators': 331, 'max_depth': 4, 'learning_rate': 0.011856923266775277, 'gamma': 0.049784348573281366}. Best is trial 0 with value: 0.8341708542713568.\n",
            "[I 2023-11-09 21:16:42,908] Trial 51 finished with value: 0.8316831683168316 and parameters: {'n_estimators': 290, 'max_depth': 3, 'learning_rate': 0.012343910555361597, 'gamma': 0.004213661935834761}. Best is trial 0 with value: 0.8341708542713568.\n",
            "[I 2023-11-09 21:16:44,491] Trial 52 finished with value: 0.8322147651006712 and parameters: {'n_estimators': 372, 'max_depth': 3, 'learning_rate': 0.014167154106279608, 'gamma': 0.008341814700518757}. Best is trial 0 with value: 0.8341708542713568.\n",
            "[I 2023-11-09 21:16:45,108] Trial 53 finished with value: 0.8241042345276872 and parameters: {'n_estimators': 215, 'max_depth': 3, 'learning_rate': 0.011462032945879387, 'gamma': 0.0034826323886789057}. Best is trial 0 with value: 0.8341708542713568.\n",
            "[I 2023-11-09 21:16:45,370] Trial 54 finished with value: 0.8260869565217391 and parameters: {'n_estimators': 447, 'max_depth': 4, 'learning_rate': 0.01609507584343989, 'gamma': 0.012362456672942014}. Best is trial 0 with value: 0.8341708542713568.\n",
            "[I 2023-11-09 21:16:45,508] Trial 55 finished with value: 0.8344370860927153 and parameters: {'n_estimators': 255, 'max_depth': 3, 'learning_rate': 0.013900720239730475, 'gamma': 0.0012399510393766356}. Best is trial 55 with value: 0.8344370860927153.\n",
            "[I 2023-11-09 21:16:45,810] Trial 56 finished with value: 0.8128161888701518 and parameters: {'n_estimators': 579, 'max_depth': 4, 'learning_rate': 0.013993198138935157, 'gamma': 0.0014566417518179775}. Best is trial 55 with value: 0.8344370860927153.\n",
            "[I 2023-11-09 21:16:45,972] Trial 57 finished with value: 0.8296795952782462 and parameters: {'n_estimators': 312, 'max_depth': 3, 'learning_rate': 0.018802123189488932, 'gamma': 0.00043770204739495525}. Best is trial 55 with value: 0.8344370860927153.\n",
            "[I 2023-11-09 21:16:46,318] Trial 58 finished with value: 0.8149405772495755 and parameters: {'n_estimators': 514, 'max_depth': 5, 'learning_rate': 0.010072148960624697, 'gamma': 0.001289687390384168}. Best is trial 55 with value: 0.8344370860927153.\n",
            "[I 2023-11-09 21:16:46,524] Trial 59 finished with value: 0.8215488215488215 and parameters: {'n_estimators': 367, 'max_depth': 4, 'learning_rate': 0.021017962398912328, 'gamma': 0.002391490105774952}. Best is trial 55 with value: 0.8344370860927153.\n",
            "[I 2023-11-09 21:16:46,641] Trial 60 finished with value: 0.8267973856209151 and parameters: {'n_estimators': 149, 'max_depth': 3, 'learning_rate': 0.015947816456951047, 'gamma': 0.0002286493421552415}. Best is trial 55 with value: 0.8344370860927153.\n",
            "[I 2023-11-09 21:16:46,781] Trial 61 finished with value: 0.8322368421052632 and parameters: {'n_estimators': 265, 'max_depth': 3, 'learning_rate': 0.01126301257126766, 'gamma': 0.005636827786444336}. Best is trial 55 with value: 0.8344370860927153.\n",
            "[I 2023-11-09 21:16:46,919] Trial 62 finished with value: 0.8322368421052632 and parameters: {'n_estimators': 244, 'max_depth': 3, 'learning_rate': 0.012012785274062167, 'gamma': 0.0006284509423911368}. Best is trial 55 with value: 0.8344370860927153.\n",
            "[I 2023-11-09 21:16:47,050] Trial 63 finished with value: 0.8282828282828283 and parameters: {'n_estimators': 184, 'max_depth': 4, 'learning_rate': 0.01316074346122529, 'gamma': 0.0033904686425199754}. Best is trial 55 with value: 0.8344370860927153.\n",
            "[I 2023-11-09 21:16:47,189] Trial 64 finished with value: 0.8311258278145696 and parameters: {'n_estimators': 267, 'max_depth': 3, 'learning_rate': 0.013948218693750057, 'gamma': 0.005665913477511129}. Best is trial 55 with value: 0.8344370860927153.\n",
            "[I 2023-11-09 21:16:47,390] Trial 65 finished with value: 0.8302521008403362 and parameters: {'n_estimators': 312, 'max_depth': 4, 'learning_rate': 0.01135396247753217, 'gamma': 0.0010014864149846482}. Best is trial 55 with value: 0.8344370860927153.\n",
            "[I 2023-11-09 21:16:47,517] Trial 66 finished with value: 0.8344370860927153 and parameters: {'n_estimators': 217, 'max_depth': 3, 'learning_rate': 0.016823942333226514, 'gamma': 0.0021402309064897226}. Best is trial 55 with value: 0.8344370860927153.\n",
            "[I 2023-11-09 21:16:47,634] Trial 67 finished with value: 0.8316831683168316 and parameters: {'n_estimators': 205, 'max_depth': 3, 'learning_rate': 0.016509602761342737, 'gamma': 0.002009019849006253}. Best is trial 55 with value: 0.8344370860927153.\n",
            "[I 2023-11-09 21:16:47,851] Trial 68 finished with value: 0.8302521008403362 and parameters: {'n_estimators': 393, 'max_depth': 4, 'learning_rate': 0.014927870426158481, 'gamma': 0.0005019509973042968}. Best is trial 55 with value: 0.8344370860927153.\n",
            "[I 2023-11-09 21:16:48,140] Trial 69 finished with value: 0.8027210884353742 and parameters: {'n_estimators': 431, 'max_depth': 5, 'learning_rate': 0.018348068755118536, 'gamma': 0.0024938170503482895}. Best is trial 55 with value: 0.8344370860927153.\n",
            "[I 2023-11-09 21:16:48,376] Trial 70 finished with value: 0.8263069139966274 and parameters: {'n_estimators': 477, 'max_depth': 3, 'learning_rate': 0.013994099749966694, 'gamma': 0.0008390296802436988}. Best is trial 55 with value: 0.8344370860927153.\n",
            "[I 2023-11-09 21:16:48,504] Trial 71 finished with value: 0.8322368421052632 and parameters: {'n_estimators': 239, 'max_depth': 3, 'learning_rate': 0.011189233348636146, 'gamma': 0.004000635858273998}. Best is trial 55 with value: 0.8344370860927153.\n",
            "[I 2023-11-09 21:16:48,654] Trial 72 finished with value: 0.8311258278145696 and parameters: {'n_estimators': 298, 'max_depth': 3, 'learning_rate': 0.012575490463260139, 'gamma': 0.0012493058268199908}. Best is trial 55 with value: 0.8344370860927153.\n",
            "[I 2023-11-09 21:16:48,855] Trial 73 finished with value: 0.8336134453781513 and parameters: {'n_estimators': 348, 'max_depth': 4, 'learning_rate': 0.010655798378576876, 'gamma': 0.009087122085085563}. Best is trial 55 with value: 0.8344370860927153.\n",
            "[I 2023-11-09 21:16:49,059] Trial 74 finished with value: 0.8296795952782462 and parameters: {'n_estimators': 343, 'max_depth': 4, 'learning_rate': 0.010955261664200527, 'gamma': 0.009634420499150226}. Best is trial 55 with value: 0.8344370860927153.\n",
            "[I 2023-11-09 21:16:49,366] Trial 75 finished with value: 0.8087986463620981 and parameters: {'n_estimators': 576, 'max_depth': 4, 'learning_rate': 0.016793019314143173, 'gamma': 0.006561983728161481}. Best is trial 55 with value: 0.8344370860927153.\n",
            "[I 2023-11-09 21:16:49,622] Trial 76 finished with value: 0.8149405772495755 and parameters: {'n_estimators': 365, 'max_depth': 5, 'learning_rate': 0.010073179636739158, 'gamma': 0.012869964053761129}. Best is trial 55 with value: 0.8344370860927153.\n",
            "[I 2023-11-09 21:16:49,842] Trial 77 finished with value: 0.8209459459459459 and parameters: {'n_estimators': 407, 'max_depth': 4, 'learning_rate': 0.015013082320390314, 'gamma': 0.001892891376374954}. Best is trial 55 with value: 0.8344370860927153.\n",
            "[I 2023-11-09 21:16:50,161] Trial 78 finished with value: 0.8217317487266553 and parameters: {'n_estimators': 146, 'max_depth': 6, 'learning_rate': 0.013261706862889926, 'gamma': 0.0028750333180990358}. Best is trial 55 with value: 0.8344370860927153.\n",
            "[I 2023-11-09 21:16:50,370] Trial 79 finished with value: 0.8175675675675675 and parameters: {'n_estimators': 273, 'max_depth': 5, 'learning_rate': 0.012560565570594064, 'gamma': 0.007517535189180649}. Best is trial 55 with value: 0.8344370860927153.\n",
            "[I 2023-11-09 21:16:50,586] Trial 80 finished with value: 0.8336134453781513 and parameters: {'n_estimators': 345, 'max_depth': 4, 'learning_rate': 0.01073456256220998, 'gamma': 0.0007503633446557225}. Best is trial 55 with value: 0.8344370860927153.\n",
            "[I 2023-11-09 21:16:50,781] Trial 81 finished with value: 0.8336134453781513 and parameters: {'n_estimators': 336, 'max_depth': 4, 'learning_rate': 0.010830872657525612, 'gamma': 0.00123782189407873}. Best is trial 55 with value: 0.8344370860927153.\n",
            "[I 2023-11-09 21:16:50,977] Trial 82 finished with value: 0.8350168350168351 and parameters: {'n_estimators': 325, 'max_depth': 4, 'learning_rate': 0.014726312925538531, 'gamma': 0.0007729120651621279}. Best is trial 82 with value: 0.8350168350168351.\n",
            "[I 2023-11-09 21:16:51,176] Trial 83 finished with value: 0.8277027027027027 and parameters: {'n_estimators': 349, 'max_depth': 4, 'learning_rate': 0.014658638097562283, 'gamma': 0.0008339018623034635}. Best is trial 82 with value: 0.8350168350168351.\n",
            "[I 2023-11-09 21:16:51,377] Trial 84 finished with value: 0.8336134453781513 and parameters: {'n_estimators': 327, 'max_depth': 4, 'learning_rate': 0.010803983290026414, 'gamma': 0.0006142371521348527}. Best is trial 82 with value: 0.8350168350168351.\n",
            "[I 2023-11-09 21:16:51,634] Trial 85 finished with value: 0.8155668358714044 and parameters: {'n_estimators': 310, 'max_depth': 5, 'learning_rate': 0.010978431658671437, 'gamma': 0.00029592658361568617}. Best is trial 82 with value: 0.8350168350168351.\n",
            "[I 2023-11-09 21:16:51,828] Trial 86 finished with value: 0.8310810810810811 and parameters: {'n_estimators': 185, 'max_depth': 4, 'learning_rate': 0.012033636782071453, 'gamma': 0.0005473066608187371}. Best is trial 82 with value: 0.8350168350168351.\n",
            "[I 2023-11-09 21:16:51,991] Trial 87 finished with value: 0.8296795952782462 and parameters: {'n_estimators': 234, 'max_depth': 4, 'learning_rate': 0.01098838337831, 'gamma': 0.00037637079284801424}. Best is trial 82 with value: 0.8350168350168351.\n",
            "[I 2023-11-09 21:16:52,576] Trial 88 finished with value: 0.8027210884353742 and parameters: {'n_estimators': 398, 'max_depth': 5, 'learning_rate': 0.015249337369845262, 'gamma': 0.0015173811970382708}. Best is trial 82 with value: 0.8350168350168351.\n",
            "[I 2023-11-09 21:16:58,718] Trial 89 finished with value: 0.7993079584775086 and parameters: {'n_estimators': 326, 'max_depth': 8, 'learning_rate': 0.017194000008120262, 'gamma': 0.0011219759184325341}. Best is trial 82 with value: 0.8350168350168351.\n",
            "[I 2023-11-09 21:16:59,717] Trial 90 finished with value: 0.8296795952782462 and parameters: {'n_estimators': 214, 'max_depth': 4, 'learning_rate': 0.013505983093643401, 'gamma': 0.0007654177540962136}. Best is trial 82 with value: 0.8350168350168351.\n",
            "[I 2023-11-09 21:17:01,084] Trial 91 finished with value: 0.8336134453781513 and parameters: {'n_estimators': 359, 'max_depth': 4, 'learning_rate': 0.01200767675108742, 'gamma': 0.0007182390459962235}. Best is trial 82 with value: 0.8350168350168351.\n",
            "[I 2023-11-09 21:17:02,483] Trial 92 finished with value: 0.8336134453781513 and parameters: {'n_estimators': 357, 'max_depth': 4, 'learning_rate': 0.01000723240903551, 'gamma': 0.0004800663095120089}. Best is trial 82 with value: 0.8350168350168351.\n",
            "[I 2023-11-09 21:17:03,423] Trial 93 finished with value: 0.830820770519263 and parameters: {'n_estimators': 427, 'max_depth': 4, 'learning_rate': 0.012070630792361842, 'gamma': 0.0006710040569298083}. Best is trial 82 with value: 0.8350168350168351.\n",
            "[I 2023-11-09 21:17:03,619] Trial 94 finished with value: 0.8316498316498316 and parameters: {'n_estimators': 301, 'max_depth': 4, 'learning_rate': 0.010860996601294068, 'gamma': 0.0010958761039347286}. Best is trial 82 with value: 0.8350168350168351.\n",
            "[I 2023-11-09 21:17:03,800] Trial 95 finished with value: 0.8322147651006712 and parameters: {'n_estimators': 386, 'max_depth': 3, 'learning_rate': 0.014105830555867033, 'gamma': 0.0013622309655118541}. Best is trial 82 with value: 0.8350168350168351.\n",
            "[I 2023-11-09 21:17:04,329] Trial 96 finished with value: 0.7993019197207678 and parameters: {'n_estimators': 335, 'max_depth': 9, 'learning_rate': 0.01190893679067672, 'gamma': 0.001786961747757868}. Best is trial 82 with value: 0.8350168350168351.\n",
            "[I 2023-11-09 21:17:04,503] Trial 97 finished with value: 0.8310810810810811 and parameters: {'n_estimators': 281, 'max_depth': 4, 'learning_rate': 0.012955683938669726, 'gamma': 0.00020663595294447126}. Best is trial 82 with value: 0.8350168350168351.\n",
            "[I 2023-11-09 21:17:04,733] Trial 98 finished with value: 0.8209459459459459 and parameters: {'n_estimators': 250, 'max_depth': 5, 'learning_rate': 0.010706542948578623, 'gamma': 0.0003641951057534044}. Best is trial 82 with value: 0.8350168350168351.\n",
            "[I 2023-11-09 21:17:04,939] Trial 99 finished with value: 0.8215488215488215 and parameters: {'n_estimators': 356, 'max_depth': 3, 'learning_rate': 0.019035367220716887, 'gamma': 0.0008315411133626048}. Best is trial 82 with value: 0.8350168350168351.\n"
          ]
        },
        {
          "name": "stdout",
          "output_type": "stream",
          "text": [
            "Best Hyperparameters: {'n_estimators': 325, 'max_depth': 4, 'learning_rate': 0.014726312925538531, 'gamma': 0.0007729120651621279}\n",
            "Best Accuracy: 0.8350168350168351\n"
          ]
        }
      ],
      "source": [
        "# Define an objective function for Optuna\n",
        "def objective(trial):\n",
        "    # Load your dataset and split it into training and validation sets\n",
        "    # X_train, y_train, X_val, y_val = ...\n",
        "\n",
        "    # Define the hyperparameters to be optimized\n",
        "    params = {\n",
        "        'n_estimators': trial.suggest_int('n_estimators', 100, 1000),\n",
        "        'max_depth': trial.suggest_int('max_depth', 3, 10),\n",
        "        'learning_rate': trial.suggest_loguniform('learning_rate', 0.01, 0.3),\n",
        "        'gamma': trial.suggest_loguniform('gamma', 1e-5, 1.0),\n",
        "    }\n",
        "\n",
        "    # Create and train the XGBoost model\n",
        "    model = xgb.XGBClassifier(**params, verbosity=0)\n",
        "    model.fit(X_train, y_train)\n",
        "\n",
        "    # Make predictions on the validation set\n",
        "    y_pred = model.predict(X_test)\n",
        "\n",
        "    # Calculate the accuracy as the metric to optimize\n",
        "    f1 = f1_score(y_test, y_pred)\n",
        "\n",
        "    return f1\n",
        "\n",
        "if __name__ == \"__main__\":\n",
        "    # Load your dataset and split it into training and validation sets\n",
        "    # X_train, y_train, X_val, y_val = ...\n",
        "\n",
        "    # Create an Optuna study and optimize the objective function\n",
        "    study = optuna.create_study(direction='maximize')\n",
        "    study.optimize(objective, n_trials=100)  # You can adjust the number of trials\n",
        "\n",
        "    # Print the best hyperparameters and their corresponding accuracy\n",
        "    best_params_xgb = study.best_params\n",
        "    best_f1_xgb= study.best_value\n",
        "    print(\"Best Hyperparameters:\", best_params_xgb)\n",
        "    print(\"Best Accuracy:\", best_f1_xgb)\n",
        "\n",
        "    # Train the final model with the best hyperparameters on the entire training set\n",
        "    final_model = xgb.XGBClassifier(**best_params_xgb, verbosity=0)\n",
        "    final_model.fit(X_train, y_train)\n",
        "\n",
        "    # Make predictions on your test set with the final model\n",
        "    # y_test = final_model.predict(X_test)\n"
      ]
    },
    {
      "cell_type": "code",
      "execution_count": null,
      "metadata": {
        "colab": {
          "base_uri": "https://localhost:8080/"
        },
        "id": "KbaAvsDyiikV",
        "outputId": "a45efafc-3813-43b9-c4f4-6871c4488465"
      },
      "outputs": [
        {
          "name": "stdout",
          "output_type": "stream",
          "text": [
            "F1-score of xgbbost after hyperparameter is 0.835\n",
            "\n",
            "F1-score of catboost after hyperparameter is 0.837\n"
          ]
        }
      ],
      "source": [
        "print(f\"F1-score of xgbbost after hyperparameter is {round(best_f1_xgb,3)}\")\n",
        "print()\n",
        "print(f\"F1-score of catboost after hyperparameter is {round(best_f1_catboost,3)}\")"
      ]
    },
    {
      "cell_type": "markdown",
      "metadata": {
        "id": "vH4Z-ffh8tUV"
      },
      "source": [
        "Comment : Catboost happens to be the best model so far...hurray!!!"
      ]
    },
    {
      "cell_type": "markdown",
      "metadata": {
        "id": "cHsMxeJB9DY4"
      },
      "source": [
        "Training the best model with the desired parameters"
      ]
    },
    {
      "cell_type": "code",
      "execution_count": null,
      "metadata": {
        "colab": {
          "base_uri": "https://localhost:8080/"
        },
        "id": "e0w6Yjlu8-hj",
        "outputId": "1047b917-3f86-4bcc-847c-021ff8a1f9f3"
      },
      "outputs": [
        {
          "name": "stdout",
          "output_type": "stream",
          "text": [
            "F1-Score is 0.84\n"
          ]
        }
      ],
      "source": [
        "best_model = CatBoostClassifier(**best_params_catboost, verbose=0)\n",
        "best_model.fit(X_train,y_train)\n",
        "preds = best_model.predict(X_test)\n",
        "\n",
        "print(f\"F1-Score is {f1_score(preds,y_test):.2f}\")"
      ]
    },
    {
      "cell_type": "code",
      "execution_count": null,
      "metadata": {
        "id": "dLZJnfoJFrZz"
      },
      "outputs": [],
      "source": []
    },
    {
      "cell_type": "markdown",
      "metadata": {
        "id": "QGkOjBlUBooV"
      },
      "source": [
        "Model Explanability"
      ]
    },
    {
      "cell_type": "code",
      "execution_count": null,
      "metadata": {
        "colab": {
          "base_uri": "https://localhost:8080/"
        },
        "id": "z0oF88ZG9tcw",
        "outputId": "12f6b707-62c2-45ee-f9dd-de567d3d3c49"
      },
      "outputs": [
        {
          "name": "stdout",
          "output_type": "stream",
          "text": [
            "Collecting shap\n",
            "  Downloading shap-0.43.0-cp310-cp310-manylinux_2_12_x86_64.manylinux2010_x86_64.manylinux_2_17_x86_64.manylinux2014_x86_64.whl (532 kB)\n",
            "\u001b[2K     \u001b[90m━━━━━━━━━━━━━━━━━━━━━━━━━━━━━━━━━━━━━━━━\u001b[0m \u001b[32m532.9/532.9 kB\u001b[0m \u001b[31m4.1 MB/s\u001b[0m eta \u001b[36m0:00:00\u001b[0m\n",
            "\u001b[?25hRequirement already satisfied: numpy in /usr/local/lib/python3.10/dist-packages (from shap) (1.23.5)\n",
            "Requirement already satisfied: scipy in /usr/local/lib/python3.10/dist-packages (from shap) (1.11.3)\n",
            "Requirement already satisfied: scikit-learn in /usr/local/lib/python3.10/dist-packages (from shap) (1.2.2)\n",
            "Requirement already satisfied: pandas in /usr/local/lib/python3.10/dist-packages (from shap) (1.5.3)\n",
            "Requirement already satisfied: tqdm>=4.27.0 in /usr/local/lib/python3.10/dist-packages (from shap) (4.66.1)\n",
            "Requirement already satisfied: packaging>20.9 in /usr/local/lib/python3.10/dist-packages (from shap) (23.2)\n",
            "Collecting slicer==0.0.7 (from shap)\n",
            "  Downloading slicer-0.0.7-py3-none-any.whl (14 kB)\n",
            "Requirement already satisfied: numba in /usr/local/lib/python3.10/dist-packages (from shap) (0.58.1)\n",
            "Requirement already satisfied: cloudpickle in /usr/local/lib/python3.10/dist-packages (from shap) (2.2.1)\n",
            "Requirement already satisfied: llvmlite<0.42,>=0.41.0dev0 in /usr/local/lib/python3.10/dist-packages (from numba->shap) (0.41.1)\n",
            "Requirement already satisfied: python-dateutil>=2.8.1 in /usr/local/lib/python3.10/dist-packages (from pandas->shap) (2.8.2)\n",
            "Requirement already satisfied: pytz>=2020.1 in /usr/local/lib/python3.10/dist-packages (from pandas->shap) (2023.3.post1)\n",
            "Requirement already satisfied: joblib>=1.1.1 in /usr/local/lib/python3.10/dist-packages (from scikit-learn->shap) (1.3.2)\n",
            "Requirement already satisfied: threadpoolctl>=2.0.0 in /usr/local/lib/python3.10/dist-packages (from scikit-learn->shap) (3.2.0)\n",
            "Requirement already satisfied: six>=1.5 in /usr/local/lib/python3.10/dist-packages (from python-dateutil>=2.8.1->pandas->shap) (1.16.0)\n",
            "Installing collected packages: slicer, shap\n",
            "Successfully installed shap-0.43.0 slicer-0.0.7\n"
          ]
        }
      ],
      "source": [
        "!pip install shap"
      ]
    },
    {
      "cell_type": "code",
      "execution_count": null,
      "metadata": {
        "colab": {
          "base_uri": "https://localhost:8080/"
        },
        "id": "giGT7da1Bl7F",
        "outputId": "1a85ccf0-1d54-4e7c-f79f-176195ef15f4"
      },
      "outputs": [
        {
          "name": "stderr",
          "output_type": "stream",
          "text": [
            "PermutationExplainer explainer: 401it [02:16,  2.74it/s]\n"
          ]
        }
      ],
      "source": [
        "# Fits the explainer\n",
        "import shap\n",
        "explainer = shap.Explainer(best_model.predict, X_test)\n",
        "# Calculates the SHAP values - It takes some time\n",
        "shap_values = explainer(X_test)"
      ]
    },
    {
      "cell_type": "code",
      "execution_count": null,
      "metadata": {
        "id": "h9f1Lzh-JCPu"
      },
      "outputs": [],
      "source": [
        "# Evaluate SHAP values\n",
        "from scipy.special import softmax\n",
        "def print_feature_importances_shap_values(shap_values, features):\n",
        "    '''\n",
        "    Prints the feature importances based on SHAP values in an ordered way\n",
        "    shap_values -> The SHAP values calculated from a shap.Explainer object\n",
        "    features -> The name of the features, on the order presented to the explainer\n",
        "    '''\n",
        "    # Calculates the feature importance (mean absolute shap value) for each feature\n",
        "    importances = []\n",
        "    for i in range(shap_values.values.shape[1]):\n",
        "        importances.append(np.mean(np.abs(shap_values.values[:, i])))\n",
        "    # Calculates the normalized version\n",
        "    importances_norm = softmax(importances)\n",
        "    # Organize the importances and columns in a dictionary\n",
        "    feature_importances = {fea: imp for imp, fea in zip(importances, features)}\n",
        "    feature_importances_norm = {fea: imp for imp, fea in zip(importances_norm, features)}\n",
        "    # Sorts the dictionary\n",
        "    feature_importances = {k: v for k, v in sorted(feature_importances.items(), key=lambda item: item[1], reverse = True)}\n",
        "    feature_importances_norm= {k: v for k, v in sorted(feature_importances_norm.items(), key=lambda item: item[1], reverse = True)}\n",
        "    # Prints the feature importances\n",
        "    for k, v in feature_importances.items():\n",
        "        print(f\"{k} -> {v:.4f} (softmax = {feature_importances_norm[k]:.4f})\")\n"
      ]
    },
    {
      "cell_type": "code",
      "execution_count": null,
      "metadata": {
        "colab": {
          "base_uri": "https://localhost:8080/"
        },
        "id": "TSFQbEbxJ16Z",
        "outputId": "df19bbac-02ac-4861-f43a-c0c206409a7f"
      },
      "outputs": [
        {
          "name": "stdout",
          "output_type": "stream",
          "text": [
            "Age -> 0.0161 (softmax = 0.0279)\n",
            "Marital_Status -> 0.0160 (softmax = 0.0279)\n",
            "Year_of_Study -> 0.0126 (softmax = 0.0278)\n",
            "Work_Experience -> 0.0101 (softmax = 0.0277)\n",
            "Non-student -> 0.0083 (softmax = 0.0277)\n",
            "Internship_Experience -> 0.0070 (softmax = 0.0276)\n",
            "Soft_Skills -> 0.0044 (softmax = 0.0276)\n",
            "Hours_Dedicated -> 0.0028 (softmax = 0.0275)\n",
            "Availability -> 0.0025 (softmax = 0.0275)\n",
            "Research_Experience -> 0.0023 (softmax = 0.0275)\n",
            "Internet_Availability -> 0.0022 (softmax = 0.0275)\n",
            "Language_Proficiency -> 0.0021 (softmax = 0.0275)\n",
            "Continent -> 0.0016 (softmax = 0.0275)\n",
            "Gender -> 0.0014 (softmax = 0.0275)\n",
            "Student -> 0.0013 (softmax = 0.0275)\n"
          ]
        }
      ],
      "source": [
        "print_feature_importances_shap_values(shap_values,features=X.columns)"
      ]
    },
    {
      "cell_type": "code",
      "execution_count": null,
      "metadata": {
        "colab": {
          "base_uri": "https://localhost:8080/",
          "height": 585
        },
        "id": "A4q4wgilKSzC",
        "outputId": "25dd74a3-1574-4550-f864-a3c7a37d1c62"
      },
      "outputs": [
        {
          "data": {
            "image/png": "[encoded data removed]",
            "text/plain": [
              "<Figure size 800x650 with 1 Axes>"
            ]
          },
          "metadata": {},
          "output_type": "display_data"
        }
      ],
      "source": [
        "shap.plots.bar(shap_values)"
      ]
    },
    {
      "cell_type": "code",
      "execution_count": null,
      "metadata": {
        "id": "jDEtaeznKSvd"
      },
      "outputs": [],
      "source": [
        "!pip"
      ]
    }
  ],
  "metadata": {
    "colab": {
      "provenance": [],
      "toc_visible": true
    },
    "kernelspec": {
      "display_name": "Python 3",
      "name": "python3"
    },
    "language_info": {
      "codemirror_mode": {
        "name": "ipython",
        "version": 3
      },
      "file_extension": ".py",
      "mimetype": "text/x-python",
      "name": "python",
      "nbconvert_exporter": "python",
      "pygments_lexer": "ipython3",
      "version": "3.10.0"
    }
  },
  "nbformat": 4,
  "nbformat_minor": 0
}
